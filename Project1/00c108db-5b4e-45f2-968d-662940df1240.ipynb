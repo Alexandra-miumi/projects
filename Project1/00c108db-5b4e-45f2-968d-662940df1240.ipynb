{
 "cells": [
  {
   "attachments": {},
   "cell_type": "markdown",
   "metadata": {},
   "source": [
    "# Анализ результатов А/В теста."
   ]
  },
  {
   "attachments": {},
   "cell_type": "markdown",
   "metadata": {},
   "source": [
    "**Цель проекта:** Приоритизировать гипотезы для увеличения выручки в интернет-магазине и сделать выводы по A/B-тесту."
   ]
  },
  {
   "attachments": {},
   "cell_type": "markdown",
   "metadata": {},
   "source": [
    "**Задачи проекта:**\n",
    "- Загрузить данные, изучить, исправить ошибки\n",
    "- Приоритизировать гипотезы для увеличения выручки\n",
    "- Проанализировать A/B-тест\n",
    "- Изучить кумулятивную выручку по группам и  кумулятивный средний чек по группам\n",
    "- Проанализировать изменения кумулятивного среднего количества заказов группы B к группе A\n",
    "- Посчитать статистическую значимость различий в среднем количестве заказов между группами по «сырым» данным\n",
    "- Посчитать статистическую значимость различий в среднем чеке заказа между группами по «сырым» данным\n",
    "- Посчитать статистическую значимость различий в среднем количестве заказов между группами по «очищенным» данным\n",
    "- Посчитать статистическую значимость различий в среднем чеке заказа между группами по «очищенным» данным\n",
    "- Сделать выводы, дать рекомендации"
   ]
  },
  {
   "attachments": {},
   "cell_type": "markdown",
   "metadata": {},
   "source": [
    "**Описание проекта.**"
   ]
  },
  {
   "attachments": {},
   "cell_type": "markdown",
   "metadata": {},
   "source": [
    "Вместе с отделом маркетинга подготовлен список гипотез для увеличения выручки в интернет-магазине. Проведён A/B-тест, проанализированы и зафиксированы результаты."
   ]
  },
  {
   "attachments": {},
   "cell_type": "markdown",
   "metadata": {},
   "source": [
    "**Описание данных**"
   ]
  },
  {
   "attachments": {},
   "cell_type": "markdown",
   "metadata": {},
   "source": [
    "Данные первого файла\n",
    "- Hypothesis — краткое описание гипотезы;\n",
    "- Reach — охват пользователей по 10-балльной шкале;\n",
    "- Impact — влияние на пользователей по 10-балльной шкале;\n",
    "- Confidence — уверенность в гипотезе по 10-балльной шкале;\n",
    "- Efforts — затраты ресурсов на проверку гипотезы по 10-балльной шкале;"
   ]
  },
  {
   "attachments": {},
   "cell_type": "markdown",
   "metadata": {},
   "source": [
    "Данные второго файла\n",
    "- transactionId — идентификатор заказа;\n",
    "- visitorId — идентификатор пользователя, совершившего заказ;\n",
    "- date — дата, когда был совершён заказ;\n",
    "- revenue — выручка заказа;\n",
    "- group — группа A/B-теста, в которую попал заказ;"
   ]
  },
  {
   "attachments": {},
   "cell_type": "markdown",
   "metadata": {},
   "source": [
    "Данные третьего файла\n",
    "- date — дата;\n",
    "- group — группа A/B-теста;\n",
    "- visitors — количество пользователей в указанную дату в указанной группе A/B-теста;"
   ]
  },
  {
   "attachments": {},
   "cell_type": "markdown",
   "metadata": {},
   "source": [
    "## Приоритизация гипотез."
   ]
  },
  {
   "attachments": {},
   "cell_type": "markdown",
   "metadata": {},
   "source": [
    "### Загружаем данные и изучаем их."
   ]
  },
  {
   "cell_type": "code",
   "execution_count": 1,
   "metadata": {},
   "outputs": [],
   "source": [
    "#импортируем нужные нам библиотеки\n",
    "import pandas as pd\n",
    "import numpy as np\n",
    "import matplotlib.pyplot as plt\n",
    "import scipy.stats as stats"
   ]
  },
  {
   "cell_type": "code",
   "execution_count": 2,
   "metadata": {},
   "outputs": [
    {
     "data": {
      "text/html": [
       "<div>\n",
       "<style scoped>\n",
       "    .dataframe tbody tr th:only-of-type {\n",
       "        vertical-align: middle;\n",
       "    }\n",
       "\n",
       "    .dataframe tbody tr th {\n",
       "        vertical-align: top;\n",
       "    }\n",
       "\n",
       "    .dataframe thead th {\n",
       "        text-align: right;\n",
       "    }\n",
       "</style>\n",
       "<table border=\"1\" class=\"dataframe\">\n",
       "  <thead>\n",
       "    <tr style=\"text-align: right;\">\n",
       "      <th></th>\n",
       "      <th>Hypothesis</th>\n",
       "      <th>Reach</th>\n",
       "      <th>Impact</th>\n",
       "      <th>Confidence</th>\n",
       "      <th>Efforts</th>\n",
       "    </tr>\n",
       "  </thead>\n",
       "  <tbody>\n",
       "    <tr>\n",
       "      <th>0</th>\n",
       "      <td>Добавить два новых канала привлечения трафика,...</td>\n",
       "      <td>3</td>\n",
       "      <td>10</td>\n",
       "      <td>8</td>\n",
       "      <td>6</td>\n",
       "    </tr>\n",
       "    <tr>\n",
       "      <th>1</th>\n",
       "      <td>Запустить собственную службу доставки, что сок...</td>\n",
       "      <td>2</td>\n",
       "      <td>5</td>\n",
       "      <td>4</td>\n",
       "      <td>10</td>\n",
       "    </tr>\n",
       "    <tr>\n",
       "      <th>2</th>\n",
       "      <td>Добавить блоки рекомендаций товаров на сайт ин...</td>\n",
       "      <td>8</td>\n",
       "      <td>3</td>\n",
       "      <td>7</td>\n",
       "      <td>3</td>\n",
       "    </tr>\n",
       "    <tr>\n",
       "      <th>3</th>\n",
       "      <td>Изменить структура категорий, что увеличит кон...</td>\n",
       "      <td>8</td>\n",
       "      <td>3</td>\n",
       "      <td>3</td>\n",
       "      <td>8</td>\n",
       "    </tr>\n",
       "    <tr>\n",
       "      <th>4</th>\n",
       "      <td>Изменить цвет фона главной страницы, чтобы уве...</td>\n",
       "      <td>3</td>\n",
       "      <td>1</td>\n",
       "      <td>1</td>\n",
       "      <td>1</td>\n",
       "    </tr>\n",
       "    <tr>\n",
       "      <th>5</th>\n",
       "      <td>Добавить страницу отзывов клиентов о магазине,...</td>\n",
       "      <td>3</td>\n",
       "      <td>2</td>\n",
       "      <td>2</td>\n",
       "      <td>3</td>\n",
       "    </tr>\n",
       "    <tr>\n",
       "      <th>6</th>\n",
       "      <td>Показать на главной странице баннеры с актуаль...</td>\n",
       "      <td>5</td>\n",
       "      <td>3</td>\n",
       "      <td>8</td>\n",
       "      <td>3</td>\n",
       "    </tr>\n",
       "    <tr>\n",
       "      <th>7</th>\n",
       "      <td>Добавить форму подписки на все основные страни...</td>\n",
       "      <td>10</td>\n",
       "      <td>7</td>\n",
       "      <td>8</td>\n",
       "      <td>5</td>\n",
       "    </tr>\n",
       "    <tr>\n",
       "      <th>8</th>\n",
       "      <td>Запустить акцию, дающую скидку на товар в день...</td>\n",
       "      <td>1</td>\n",
       "      <td>9</td>\n",
       "      <td>9</td>\n",
       "      <td>5</td>\n",
       "    </tr>\n",
       "  </tbody>\n",
       "</table>\n",
       "</div>"
      ],
      "text/plain": [
       "                                          Hypothesis  Reach  Impact  \\\n",
       "0  Добавить два новых канала привлечения трафика,...      3      10   \n",
       "1  Запустить собственную службу доставки, что сок...      2       5   \n",
       "2  Добавить блоки рекомендаций товаров на сайт ин...      8       3   \n",
       "3  Изменить структура категорий, что увеличит кон...      8       3   \n",
       "4  Изменить цвет фона главной страницы, чтобы уве...      3       1   \n",
       "5  Добавить страницу отзывов клиентов о магазине,...      3       2   \n",
       "6  Показать на главной странице баннеры с актуаль...      5       3   \n",
       "7  Добавить форму подписки на все основные страни...     10       7   \n",
       "8  Запустить акцию, дающую скидку на товар в день...      1       9   \n",
       "\n",
       "   Confidence  Efforts  \n",
       "0           8        6  \n",
       "1           4       10  \n",
       "2           7        3  \n",
       "3           3        8  \n",
       "4           1        1  \n",
       "5           2        3  \n",
       "6           8        3  \n",
       "7           8        5  \n",
       "8           9        5  "
      ]
     },
     "metadata": {},
     "output_type": "display_data"
    }
   ],
   "source": [
    "#открываем и смотрим файл\n",
    "hypothesis = pd.read_csv('/datasets/hypothesis.csv')\n",
    "display(hypothesis)"
   ]
  },
  {
   "cell_type": "code",
   "execution_count": 3,
   "metadata": {},
   "outputs": [
    {
     "data": {
      "text/html": [
       "<div>\n",
       "<style scoped>\n",
       "    .dataframe tbody tr th:only-of-type {\n",
       "        vertical-align: middle;\n",
       "    }\n",
       "\n",
       "    .dataframe tbody tr th {\n",
       "        vertical-align: top;\n",
       "    }\n",
       "\n",
       "    .dataframe thead th {\n",
       "        text-align: right;\n",
       "    }\n",
       "</style>\n",
       "<table border=\"1\" class=\"dataframe\">\n",
       "  <thead>\n",
       "    <tr style=\"text-align: right;\">\n",
       "      <th></th>\n",
       "      <th>hypothesis</th>\n",
       "      <th>reach</th>\n",
       "      <th>impact</th>\n",
       "      <th>confidence</th>\n",
       "      <th>efforts</th>\n",
       "    </tr>\n",
       "  </thead>\n",
       "  <tbody>\n",
       "    <tr>\n",
       "      <th>0</th>\n",
       "      <td>Добавить два новых канала привлечения трафика, что позволит привлекать на 30% больше пользователей</td>\n",
       "      <td>3</td>\n",
       "      <td>10</td>\n",
       "      <td>8</td>\n",
       "      <td>6</td>\n",
       "    </tr>\n",
       "    <tr>\n",
       "      <th>1</th>\n",
       "      <td>Запустить собственную службу доставки, что сократит срок доставки заказов</td>\n",
       "      <td>2</td>\n",
       "      <td>5</td>\n",
       "      <td>4</td>\n",
       "      <td>10</td>\n",
       "    </tr>\n",
       "    <tr>\n",
       "      <th>2</th>\n",
       "      <td>Добавить блоки рекомендаций товаров на сайт интернет магазина, чтобы повысить конверсию и средни...</td>\n",
       "      <td>8</td>\n",
       "      <td>3</td>\n",
       "      <td>7</td>\n",
       "      <td>3</td>\n",
       "    </tr>\n",
       "    <tr>\n",
       "      <th>3</th>\n",
       "      <td>Изменить структура категорий, что увеличит конверсию, т.к. пользователи быстрее найдут нужный товар</td>\n",
       "      <td>8</td>\n",
       "      <td>3</td>\n",
       "      <td>3</td>\n",
       "      <td>8</td>\n",
       "    </tr>\n",
       "    <tr>\n",
       "      <th>4</th>\n",
       "      <td>Изменить цвет фона главной страницы, чтобы увеличить вовлеченность пользователей</td>\n",
       "      <td>3</td>\n",
       "      <td>1</td>\n",
       "      <td>1</td>\n",
       "      <td>1</td>\n",
       "    </tr>\n",
       "    <tr>\n",
       "      <th>5</th>\n",
       "      <td>Добавить страницу отзывов клиентов о магазине, что позволит увеличить количество заказов</td>\n",
       "      <td>3</td>\n",
       "      <td>2</td>\n",
       "      <td>2</td>\n",
       "      <td>3</td>\n",
       "    </tr>\n",
       "    <tr>\n",
       "      <th>6</th>\n",
       "      <td>Показать на главной странице баннеры с актуальными акциями и распродажами, чтобы увеличить конве...</td>\n",
       "      <td>5</td>\n",
       "      <td>3</td>\n",
       "      <td>8</td>\n",
       "      <td>3</td>\n",
       "    </tr>\n",
       "    <tr>\n",
       "      <th>7</th>\n",
       "      <td>Добавить форму подписки на все основные страницы, чтобы собрать базу клиентов для email-рассылок</td>\n",
       "      <td>10</td>\n",
       "      <td>7</td>\n",
       "      <td>8</td>\n",
       "      <td>5</td>\n",
       "    </tr>\n",
       "    <tr>\n",
       "      <th>8</th>\n",
       "      <td>Запустить акцию, дающую скидку на товар в день рождения</td>\n",
       "      <td>1</td>\n",
       "      <td>9</td>\n",
       "      <td>9</td>\n",
       "      <td>5</td>\n",
       "    </tr>\n",
       "  </tbody>\n",
       "</table>\n",
       "</div>"
      ],
      "text/plain": [
       "                                                                                            hypothesis  \\\n",
       "0   Добавить два новых канала привлечения трафика, что позволит привлекать на 30% больше пользователей   \n",
       "1                            Запустить собственную службу доставки, что сократит срок доставки заказов   \n",
       "2  Добавить блоки рекомендаций товаров на сайт интернет магазина, чтобы повысить конверсию и средни...   \n",
       "3  Изменить структура категорий, что увеличит конверсию, т.к. пользователи быстрее найдут нужный товар   \n",
       "4                     Изменить цвет фона главной страницы, чтобы увеличить вовлеченность пользователей   \n",
       "5             Добавить страницу отзывов клиентов о магазине, что позволит увеличить количество заказов   \n",
       "6  Показать на главной странице баннеры с актуальными акциями и распродажами, чтобы увеличить конве...   \n",
       "7     Добавить форму подписки на все основные страницы, чтобы собрать базу клиентов для email-рассылок   \n",
       "8                                              Запустить акцию, дающую скидку на товар в день рождения   \n",
       "\n",
       "   reach  impact  confidence  efforts  \n",
       "0      3      10           8        6  \n",
       "1      2       5           4       10  \n",
       "2      8       3           7        3  \n",
       "3      8       3           3        8  \n",
       "4      3       1           1        1  \n",
       "5      3       2           2        3  \n",
       "6      5       3           8        3  \n",
       "7     10       7           8        5  \n",
       "8      1       9           9        5  "
      ]
     },
     "metadata": {},
     "output_type": "display_data"
    }
   ],
   "source": [
    "#приводим названия столбцов к нижниму регистру\n",
    "hypothesis.columns = hypothesis.columns.str.lower()\n",
    "pd.options.display.max_colwidth = 100\n",
    "\n",
    "#проверяем\n",
    "display(hypothesis)"
   ]
  },
  {
   "attachments": {},
   "cell_type": "markdown",
   "metadata": {},
   "source": [
    "### Применяем фреймворки ICE и RICE для приоритизации гипотез."
   ]
  },
  {
   "cell_type": "code",
   "execution_count": 4,
   "metadata": {
    "scrolled": true
   },
   "outputs": [
    {
     "data": {
      "text/html": [
       "<div>\n",
       "<style scoped>\n",
       "    .dataframe tbody tr th:only-of-type {\n",
       "        vertical-align: middle;\n",
       "    }\n",
       "\n",
       "    .dataframe tbody tr th {\n",
       "        vertical-align: top;\n",
       "    }\n",
       "\n",
       "    .dataframe thead th {\n",
       "        text-align: right;\n",
       "    }\n",
       "</style>\n",
       "<table border=\"1\" class=\"dataframe\">\n",
       "  <thead>\n",
       "    <tr style=\"text-align: right;\">\n",
       "      <th></th>\n",
       "      <th>hypothesis</th>\n",
       "      <th>ICE</th>\n",
       "    </tr>\n",
       "  </thead>\n",
       "  <tbody>\n",
       "    <tr>\n",
       "      <th>8</th>\n",
       "      <td>Запустить акцию, дающую скидку на товар в день рождения</td>\n",
       "      <td>16.20</td>\n",
       "    </tr>\n",
       "    <tr>\n",
       "      <th>0</th>\n",
       "      <td>Добавить два новых канала привлечения трафика, что позволит привлекать на 30% больше пользователей</td>\n",
       "      <td>13.33</td>\n",
       "    </tr>\n",
       "    <tr>\n",
       "      <th>7</th>\n",
       "      <td>Добавить форму подписки на все основные страницы, чтобы собрать базу клиентов для email-рассылок</td>\n",
       "      <td>11.20</td>\n",
       "    </tr>\n",
       "    <tr>\n",
       "      <th>6</th>\n",
       "      <td>Показать на главной странице баннеры с актуальными акциями и распродажами, чтобы увеличить конве...</td>\n",
       "      <td>8.00</td>\n",
       "    </tr>\n",
       "    <tr>\n",
       "      <th>2</th>\n",
       "      <td>Добавить блоки рекомендаций товаров на сайт интернет магазина, чтобы повысить конверсию и средни...</td>\n",
       "      <td>7.00</td>\n",
       "    </tr>\n",
       "    <tr>\n",
       "      <th>1</th>\n",
       "      <td>Запустить собственную службу доставки, что сократит срок доставки заказов</td>\n",
       "      <td>2.00</td>\n",
       "    </tr>\n",
       "    <tr>\n",
       "      <th>5</th>\n",
       "      <td>Добавить страницу отзывов клиентов о магазине, что позволит увеличить количество заказов</td>\n",
       "      <td>1.33</td>\n",
       "    </tr>\n",
       "    <tr>\n",
       "      <th>3</th>\n",
       "      <td>Изменить структура категорий, что увеличит конверсию, т.к. пользователи быстрее найдут нужный товар</td>\n",
       "      <td>1.12</td>\n",
       "    </tr>\n",
       "    <tr>\n",
       "      <th>4</th>\n",
       "      <td>Изменить цвет фона главной страницы, чтобы увеличить вовлеченность пользователей</td>\n",
       "      <td>1.00</td>\n",
       "    </tr>\n",
       "  </tbody>\n",
       "</table>\n",
       "</div>"
      ],
      "text/plain": [
       "                                                                                            hypothesis  \\\n",
       "8                                              Запустить акцию, дающую скидку на товар в день рождения   \n",
       "0   Добавить два новых канала привлечения трафика, что позволит привлекать на 30% больше пользователей   \n",
       "7     Добавить форму подписки на все основные страницы, чтобы собрать базу клиентов для email-рассылок   \n",
       "6  Показать на главной странице баннеры с актуальными акциями и распродажами, чтобы увеличить конве...   \n",
       "2  Добавить блоки рекомендаций товаров на сайт интернет магазина, чтобы повысить конверсию и средни...   \n",
       "1                            Запустить собственную службу доставки, что сократит срок доставки заказов   \n",
       "5             Добавить страницу отзывов клиентов о магазине, что позволит увеличить количество заказов   \n",
       "3  Изменить структура категорий, что увеличит конверсию, т.к. пользователи быстрее найдут нужный товар   \n",
       "4                     Изменить цвет фона главной страницы, чтобы увеличить вовлеченность пользователей   \n",
       "\n",
       "     ICE  \n",
       "8  16.20  \n",
       "0  13.33  \n",
       "7  11.20  \n",
       "6   8.00  \n",
       "2   7.00  \n",
       "1   2.00  \n",
       "5   1.33  \n",
       "3   1.12  \n",
       "4   1.00  "
      ]
     },
     "metadata": {},
     "output_type": "display_data"
    }
   ],
   "source": [
    "#применяем фреймворк ICE для приоритизации гипотез, сортируем по убыванию приоритета, округляем\n",
    "hypothesis['ICE'] = (hypothesis['impact']*hypothesis['confidence'])/hypothesis['efforts']\n",
    "\n",
    "display((hypothesis[['hypothesis', 'ICE']].sort_values(by='ICE', ascending=False)).round(2))"
   ]
  },
  {
   "attachments": {},
   "cell_type": "markdown",
   "metadata": {},
   "source": [
    "**Вывод:**\n",
    "- По таблице мы видим, что приоритетными для нас будут гипотезы 8, 0, и 7."
   ]
  },
  {
   "cell_type": "code",
   "execution_count": 5,
   "metadata": {},
   "outputs": [
    {
     "data": {
      "text/html": [
       "<div>\n",
       "<style scoped>\n",
       "    .dataframe tbody tr th:only-of-type {\n",
       "        vertical-align: middle;\n",
       "    }\n",
       "\n",
       "    .dataframe tbody tr th {\n",
       "        vertical-align: top;\n",
       "    }\n",
       "\n",
       "    .dataframe thead th {\n",
       "        text-align: right;\n",
       "    }\n",
       "</style>\n",
       "<table border=\"1\" class=\"dataframe\">\n",
       "  <thead>\n",
       "    <tr style=\"text-align: right;\">\n",
       "      <th></th>\n",
       "      <th>hypothesis</th>\n",
       "      <th>RICE</th>\n",
       "    </tr>\n",
       "  </thead>\n",
       "  <tbody>\n",
       "    <tr>\n",
       "      <th>7</th>\n",
       "      <td>Добавить форму подписки на все основные страницы, чтобы собрать базу клиентов для email-рассылок</td>\n",
       "      <td>112.0</td>\n",
       "    </tr>\n",
       "    <tr>\n",
       "      <th>2</th>\n",
       "      <td>Добавить блоки рекомендаций товаров на сайт интернет магазина, чтобы повысить конверсию и средни...</td>\n",
       "      <td>56.0</td>\n",
       "    </tr>\n",
       "    <tr>\n",
       "      <th>0</th>\n",
       "      <td>Добавить два новых канала привлечения трафика, что позволит привлекать на 30% больше пользователей</td>\n",
       "      <td>40.0</td>\n",
       "    </tr>\n",
       "    <tr>\n",
       "      <th>6</th>\n",
       "      <td>Показать на главной странице баннеры с актуальными акциями и распродажами, чтобы увеличить конве...</td>\n",
       "      <td>40.0</td>\n",
       "    </tr>\n",
       "    <tr>\n",
       "      <th>8</th>\n",
       "      <td>Запустить акцию, дающую скидку на товар в день рождения</td>\n",
       "      <td>16.2</td>\n",
       "    </tr>\n",
       "    <tr>\n",
       "      <th>3</th>\n",
       "      <td>Изменить структура категорий, что увеличит конверсию, т.к. пользователи быстрее найдут нужный товар</td>\n",
       "      <td>9.0</td>\n",
       "    </tr>\n",
       "    <tr>\n",
       "      <th>1</th>\n",
       "      <td>Запустить собственную службу доставки, что сократит срок доставки заказов</td>\n",
       "      <td>4.0</td>\n",
       "    </tr>\n",
       "    <tr>\n",
       "      <th>5</th>\n",
       "      <td>Добавить страницу отзывов клиентов о магазине, что позволит увеличить количество заказов</td>\n",
       "      <td>4.0</td>\n",
       "    </tr>\n",
       "    <tr>\n",
       "      <th>4</th>\n",
       "      <td>Изменить цвет фона главной страницы, чтобы увеличить вовлеченность пользователей</td>\n",
       "      <td>3.0</td>\n",
       "    </tr>\n",
       "  </tbody>\n",
       "</table>\n",
       "</div>"
      ],
      "text/plain": [
       "                                                                                            hypothesis  \\\n",
       "7     Добавить форму подписки на все основные страницы, чтобы собрать базу клиентов для email-рассылок   \n",
       "2  Добавить блоки рекомендаций товаров на сайт интернет магазина, чтобы повысить конверсию и средни...   \n",
       "0   Добавить два новых канала привлечения трафика, что позволит привлекать на 30% больше пользователей   \n",
       "6  Показать на главной странице баннеры с актуальными акциями и распродажами, чтобы увеличить конве...   \n",
       "8                                              Запустить акцию, дающую скидку на товар в день рождения   \n",
       "3  Изменить структура категорий, что увеличит конверсию, т.к. пользователи быстрее найдут нужный товар   \n",
       "1                            Запустить собственную службу доставки, что сократит срок доставки заказов   \n",
       "5             Добавить страницу отзывов клиентов о магазине, что позволит увеличить количество заказов   \n",
       "4                     Изменить цвет фона главной страницы, чтобы увеличить вовлеченность пользователей   \n",
       "\n",
       "    RICE  \n",
       "7  112.0  \n",
       "2   56.0  \n",
       "0   40.0  \n",
       "6   40.0  \n",
       "8   16.2  \n",
       "3    9.0  \n",
       "1    4.0  \n",
       "5    4.0  \n",
       "4    3.0  "
      ]
     },
     "metadata": {},
     "output_type": "display_data"
    }
   ],
   "source": [
    "#применяем фреймворк RICE для приоритизации гипотез, сортируем по убыванию приоритета, округляем\n",
    "hypothesis['RICE'] = (hypothesis['reach']*hypothesis['impact']*hypothesis['confidence'])/hypothesis['efforts']\n",
    "\n",
    "display(hypothesis[['hypothesis', 'RICE']].sort_values(by='RICE', ascending=False))"
   ]
  },
  {
   "attachments": {},
   "cell_type": "markdown",
   "metadata": {},
   "source": [
    "**Вывод:**\n",
    "- Мы видим, что при учёте охвата приоритетность меняется. Теперь приоритетными стали гипотезы 7, 2, 0 и 6, т.к. они затрагивают большее количество пользователей."
   ]
  },
  {
   "cell_type": "code",
   "execution_count": 6,
   "metadata": {
    "scrolled": true
   },
   "outputs": [
    {
     "data": {
      "text/html": [
       "<style  type=\"text/css\" >\n",
       "#T_fe814_row0_col1,#T_fe814_row0_col2{\n",
       "            background-color:  #8d5a5a;\n",
       "            color:  #f1f1f1;\n",
       "        }#T_fe814_row1_col1,#T_fe814_row3_col1{\n",
       "            background-color:  #ab6f6f;\n",
       "            color:  #000000;\n",
       "        }#T_fe814_row1_col2{\n",
       "            background-color:  #885757;\n",
       "            color:  #f1f1f1;\n",
       "        }#T_fe814_row2_col1{\n",
       "            background-color:  #d7bd9c;\n",
       "            color:  #000000;\n",
       "        }#T_fe814_row2_col2{\n",
       "            background-color:  #855555;\n",
       "            color:  #f1f1f1;\n",
       "        }#T_fe814_row3_col2{\n",
       "            background-color:  #815252;\n",
       "            color:  #f1f1f1;\n",
       "        }#T_fe814_row4_col1{\n",
       "            background-color:  #bc7a7a;\n",
       "            color:  #000000;\n",
       "        }#T_fe814_row4_col2{\n",
       "            background-color:  #7f5151;\n",
       "            color:  #f1f1f1;\n",
       "        }#T_fe814_row5_col1,#T_fe814_row6_col1{\n",
       "            background-color:  #7b4e4e;\n",
       "            color:  #f1f1f1;\n",
       "        }#T_fe814_row5_col2{\n",
       "            background-color:  #774c4c;\n",
       "            color:  #f1f1f1;\n",
       "        }#T_fe814_row6_col2,#T_fe814_row7_col2,#T_fe814_row8_col2{\n",
       "            background-color:  #764b4b;\n",
       "            color:  #f1f1f1;\n",
       "        }#T_fe814_row7_col1{\n",
       "            background-color:  #825353;\n",
       "            color:  #f1f1f1;\n",
       "        }#T_fe814_row8_col1{\n",
       "            background-color:  #794d4d;\n",
       "            color:  #f1f1f1;\n",
       "        }</style><table id=\"T_fe814_\" ><thead>    <tr>        <th class=\"blank level0\" ></th>        <th class=\"col_heading level0 col0\" >hypothesis</th>        <th class=\"col_heading level0 col1\" >RICE</th>        <th class=\"col_heading level0 col2\" >ICE</th>    </tr></thead><tbody>\n",
       "                <tr>\n",
       "                        <th id=\"T_fe814_level0_row0\" class=\"row_heading level0 row0\" >8</th>\n",
       "                        <td id=\"T_fe814_row0_col0\" class=\"data row0 col0\" >Запустить акцию, дающую скидку на товар в день рождения</td>\n",
       "                        <td id=\"T_fe814_row0_col1\" class=\"data row0 col1\" >16.200000</td>\n",
       "                        <td id=\"T_fe814_row0_col2\" class=\"data row0 col2\" >16.200000</td>\n",
       "            </tr>\n",
       "            <tr>\n",
       "                        <th id=\"T_fe814_level0_row1\" class=\"row_heading level0 row1\" >0</th>\n",
       "                        <td id=\"T_fe814_row1_col0\" class=\"data row1 col0\" >Добавить два новых канала привлечения трафика, что позволит привлекать на 30% больше пользователей</td>\n",
       "                        <td id=\"T_fe814_row1_col1\" class=\"data row1 col1\" >40.000000</td>\n",
       "                        <td id=\"T_fe814_row1_col2\" class=\"data row1 col2\" >13.333333</td>\n",
       "            </tr>\n",
       "            <tr>\n",
       "                        <th id=\"T_fe814_level0_row2\" class=\"row_heading level0 row2\" >7</th>\n",
       "                        <td id=\"T_fe814_row2_col0\" class=\"data row2 col0\" >Добавить форму подписки на все основные страницы, чтобы собрать базу клиентов для email-рассылок</td>\n",
       "                        <td id=\"T_fe814_row2_col1\" class=\"data row2 col1\" >112.000000</td>\n",
       "                        <td id=\"T_fe814_row2_col2\" class=\"data row2 col2\" >11.200000</td>\n",
       "            </tr>\n",
       "            <tr>\n",
       "                        <th id=\"T_fe814_level0_row3\" class=\"row_heading level0 row3\" >6</th>\n",
       "                        <td id=\"T_fe814_row3_col0\" class=\"data row3 col0\" >Показать на главной странице баннеры с актуальными акциями и распродажами, чтобы увеличить конверсию</td>\n",
       "                        <td id=\"T_fe814_row3_col1\" class=\"data row3 col1\" >40.000000</td>\n",
       "                        <td id=\"T_fe814_row3_col2\" class=\"data row3 col2\" >8.000000</td>\n",
       "            </tr>\n",
       "            <tr>\n",
       "                        <th id=\"T_fe814_level0_row4\" class=\"row_heading level0 row4\" >2</th>\n",
       "                        <td id=\"T_fe814_row4_col0\" class=\"data row4 col0\" >Добавить блоки рекомендаций товаров на сайт интернет магазина, чтобы повысить конверсию и средний чек заказа</td>\n",
       "                        <td id=\"T_fe814_row4_col1\" class=\"data row4 col1\" >56.000000</td>\n",
       "                        <td id=\"T_fe814_row4_col2\" class=\"data row4 col2\" >7.000000</td>\n",
       "            </tr>\n",
       "            <tr>\n",
       "                        <th id=\"T_fe814_level0_row5\" class=\"row_heading level0 row5\" >1</th>\n",
       "                        <td id=\"T_fe814_row5_col0\" class=\"data row5 col0\" >Запустить собственную службу доставки, что сократит срок доставки заказов</td>\n",
       "                        <td id=\"T_fe814_row5_col1\" class=\"data row5 col1\" >4.000000</td>\n",
       "                        <td id=\"T_fe814_row5_col2\" class=\"data row5 col2\" >2.000000</td>\n",
       "            </tr>\n",
       "            <tr>\n",
       "                        <th id=\"T_fe814_level0_row6\" class=\"row_heading level0 row6\" >5</th>\n",
       "                        <td id=\"T_fe814_row6_col0\" class=\"data row6 col0\" >Добавить страницу отзывов клиентов о магазине, что позволит увеличить количество заказов</td>\n",
       "                        <td id=\"T_fe814_row6_col1\" class=\"data row6 col1\" >4.000000</td>\n",
       "                        <td id=\"T_fe814_row6_col2\" class=\"data row6 col2\" >1.333333</td>\n",
       "            </tr>\n",
       "            <tr>\n",
       "                        <th id=\"T_fe814_level0_row7\" class=\"row_heading level0 row7\" >3</th>\n",
       "                        <td id=\"T_fe814_row7_col0\" class=\"data row7 col0\" >Изменить структура категорий, что увеличит конверсию, т.к. пользователи быстрее найдут нужный товар</td>\n",
       "                        <td id=\"T_fe814_row7_col1\" class=\"data row7 col1\" >9.000000</td>\n",
       "                        <td id=\"T_fe814_row7_col2\" class=\"data row7 col2\" >1.125000</td>\n",
       "            </tr>\n",
       "            <tr>\n",
       "                        <th id=\"T_fe814_level0_row8\" class=\"row_heading level0 row8\" >4</th>\n",
       "                        <td id=\"T_fe814_row8_col0\" class=\"data row8 col0\" >Изменить цвет фона главной страницы, чтобы увеличить вовлеченность пользователей</td>\n",
       "                        <td id=\"T_fe814_row8_col1\" class=\"data row8 col1\" >3.000000</td>\n",
       "                        <td id=\"T_fe814_row8_col2\" class=\"data row8 col2\" >1.000000</td>\n",
       "            </tr>\n",
       "    </tbody></table>"
      ],
      "text/plain": [
       "<pandas.io.formats.style.Styler at 0x7fc77d709520>"
      ]
     },
     "execution_count": 6,
     "metadata": {},
     "output_type": "execute_result"
    }
   ],
   "source": [
    "#выводим 2 метрики в одной таблице\n",
    "hypothesis[['hypothesis', 'RICE', 'ICE']].sort_values(['ICE', 'RICE'], ascending=False).style.background_gradient(cmap='pink', axis=None, low=0.3, high=1)"
   ]
  },
  {
   "attachments": {},
   "cell_type": "markdown",
   "metadata": {},
   "source": [
    "**Вывод:**\n",
    "\n",
    "- На первом месте по приоритетности гипотеза \"7\" - Добавить форму подписки на все основные страницы, чтобы собрать базу клиентов для email-рассылок, т.к. она имеет самый большой охват пользователей.\n",
    "- На втором месте по приоритетности будет гипотиза \"2\" - Добавить блоки рекомендаций товаров на сайт интернет магазина, чтобы повысить конверсию и средний чек заказа, у этой гипотезы охват в два раза ниже чем у \"7\", но значительно выше чем у других гипотез.\n",
    "- Третье место по приоритетности разделяют гипотезы \"0\" и \"6\", по охвату они уступают вышеперечисленным гипотезам, но значительно превосходят по охвату оставшиеся гипотезы.\n",
    "- Если в ICE приоритетными были гипотезы \"8\", \"0\", \"7\", то в RICE - \"7\"(она была на 3 мете), \"2\"(она была на 5 месте), \"0\"(она была на 2 месте). Также мы видим, что гипотеза \"8\", которая была на первом месте в таблице ICE сместилась на 5 место. Такое отличие продиктовано, тем что в фреймворке RICE мы учитываем важный параметр - Reach (охват пользователей,которых затронет изменение). Так как цифры пользователей, которых затронет изменение, у гипотизы \"7\" и \"2\" самые высокие, то данные гипотезы стоит рассмотреть для тестирования."
   ]
  },
  {
   "attachments": {},
   "cell_type": "markdown",
   "metadata": {},
   "source": [
    "## Анализ A/B-теста."
   ]
  },
  {
   "attachments": {},
   "cell_type": "markdown",
   "metadata": {},
   "source": [
    "### Предобработка данных."
   ]
  },
  {
   "cell_type": "code",
   "execution_count": 7,
   "metadata": {
    "scrolled": true
   },
   "outputs": [
    {
     "data": {
      "text/html": [
       "<div>\n",
       "<style scoped>\n",
       "    .dataframe tbody tr th:only-of-type {\n",
       "        vertical-align: middle;\n",
       "    }\n",
       "\n",
       "    .dataframe tbody tr th {\n",
       "        vertical-align: top;\n",
       "    }\n",
       "\n",
       "    .dataframe thead th {\n",
       "        text-align: right;\n",
       "    }\n",
       "</style>\n",
       "<table border=\"1\" class=\"dataframe\">\n",
       "  <thead>\n",
       "    <tr style=\"text-align: right;\">\n",
       "      <th></th>\n",
       "      <th>transactionId</th>\n",
       "      <th>visitorId</th>\n",
       "      <th>date</th>\n",
       "      <th>revenue</th>\n",
       "      <th>group</th>\n",
       "    </tr>\n",
       "  </thead>\n",
       "  <tbody>\n",
       "    <tr>\n",
       "      <th>0</th>\n",
       "      <td>3667963787</td>\n",
       "      <td>3312258926</td>\n",
       "      <td>2019-08-15</td>\n",
       "      <td>1650</td>\n",
       "      <td>B</td>\n",
       "    </tr>\n",
       "    <tr>\n",
       "      <th>1</th>\n",
       "      <td>2804400009</td>\n",
       "      <td>3642806036</td>\n",
       "      <td>2019-08-15</td>\n",
       "      <td>730</td>\n",
       "      <td>B</td>\n",
       "    </tr>\n",
       "    <tr>\n",
       "      <th>2</th>\n",
       "      <td>2961555356</td>\n",
       "      <td>4069496402</td>\n",
       "      <td>2019-08-15</td>\n",
       "      <td>400</td>\n",
       "      <td>A</td>\n",
       "    </tr>\n",
       "    <tr>\n",
       "      <th>3</th>\n",
       "      <td>3797467345</td>\n",
       "      <td>1196621759</td>\n",
       "      <td>2019-08-15</td>\n",
       "      <td>9759</td>\n",
       "      <td>B</td>\n",
       "    </tr>\n",
       "    <tr>\n",
       "      <th>4</th>\n",
       "      <td>2282983706</td>\n",
       "      <td>2322279887</td>\n",
       "      <td>2019-08-15</td>\n",
       "      <td>2308</td>\n",
       "      <td>B</td>\n",
       "    </tr>\n",
       "  </tbody>\n",
       "</table>\n",
       "</div>"
      ],
      "text/plain": [
       "   transactionId   visitorId        date  revenue group\n",
       "0     3667963787  3312258926  2019-08-15     1650     B\n",
       "1     2804400009  3642806036  2019-08-15      730     B\n",
       "2     2961555356  4069496402  2019-08-15      400     A\n",
       "3     3797467345  1196621759  2019-08-15     9759     B\n",
       "4     2282983706  2322279887  2019-08-15     2308     B"
      ]
     },
     "metadata": {},
     "output_type": "display_data"
    },
    {
     "data": {
      "text/html": [
       "<div>\n",
       "<style scoped>\n",
       "    .dataframe tbody tr th:only-of-type {\n",
       "        vertical-align: middle;\n",
       "    }\n",
       "\n",
       "    .dataframe tbody tr th {\n",
       "        vertical-align: top;\n",
       "    }\n",
       "\n",
       "    .dataframe thead th {\n",
       "        text-align: right;\n",
       "    }\n",
       "</style>\n",
       "<table border=\"1\" class=\"dataframe\">\n",
       "  <thead>\n",
       "    <tr style=\"text-align: right;\">\n",
       "      <th></th>\n",
       "      <th>date</th>\n",
       "      <th>group</th>\n",
       "      <th>visitors</th>\n",
       "    </tr>\n",
       "  </thead>\n",
       "  <tbody>\n",
       "    <tr>\n",
       "      <th>0</th>\n",
       "      <td>2019-08-01</td>\n",
       "      <td>A</td>\n",
       "      <td>719</td>\n",
       "    </tr>\n",
       "    <tr>\n",
       "      <th>1</th>\n",
       "      <td>2019-08-02</td>\n",
       "      <td>A</td>\n",
       "      <td>619</td>\n",
       "    </tr>\n",
       "    <tr>\n",
       "      <th>2</th>\n",
       "      <td>2019-08-03</td>\n",
       "      <td>A</td>\n",
       "      <td>507</td>\n",
       "    </tr>\n",
       "    <tr>\n",
       "      <th>3</th>\n",
       "      <td>2019-08-04</td>\n",
       "      <td>A</td>\n",
       "      <td>717</td>\n",
       "    </tr>\n",
       "    <tr>\n",
       "      <th>4</th>\n",
       "      <td>2019-08-05</td>\n",
       "      <td>A</td>\n",
       "      <td>756</td>\n",
       "    </tr>\n",
       "  </tbody>\n",
       "</table>\n",
       "</div>"
      ],
      "text/plain": [
       "         date group  visitors\n",
       "0  2019-08-01     A       719\n",
       "1  2019-08-02     A       619\n",
       "2  2019-08-03     A       507\n",
       "3  2019-08-04     A       717\n",
       "4  2019-08-05     A       756"
      ]
     },
     "metadata": {},
     "output_type": "display_data"
    }
   ],
   "source": [
    "#просматриваем результаты A/B-теста, который мы провели\n",
    "orders = pd.read_csv('/datasets/orders.csv')\n",
    "display(orders.head(5))\n",
    "\n",
    "visitors = pd.read_csv('/datasets/visitors.csv')\n",
    "display(visitors.head(5))"
   ]
  },
  {
   "cell_type": "code",
   "execution_count": 8,
   "metadata": {},
   "outputs": [
    {
     "name": "stdout",
     "output_type": "stream",
     "text": [
      "<class 'pandas.core.frame.DataFrame'>\n",
      "RangeIndex: 1197 entries, 0 to 1196\n",
      "Data columns (total 5 columns):\n",
      " #   Column         Non-Null Count  Dtype \n",
      "---  ------         --------------  ----- \n",
      " 0   transactionId  1197 non-null   int64 \n",
      " 1   visitorId      1197 non-null   int64 \n",
      " 2   date           1197 non-null   object\n",
      " 3   revenue        1197 non-null   int64 \n",
      " 4   group          1197 non-null   object\n",
      "dtypes: int64(3), object(2)\n",
      "memory usage: 46.9+ KB\n",
      "None\n",
      "<class 'pandas.core.frame.DataFrame'>\n",
      "RangeIndex: 62 entries, 0 to 61\n",
      "Data columns (total 3 columns):\n",
      " #   Column    Non-Null Count  Dtype \n",
      "---  ------    --------------  ----- \n",
      " 0   date      62 non-null     object\n",
      " 1   group     62 non-null     object\n",
      " 2   visitors  62 non-null     int64 \n",
      "dtypes: int64(1), object(2)\n",
      "memory usage: 1.6+ KB\n",
      "None\n"
     ]
    }
   ],
   "source": [
    "#смотрим типы данных\n",
    "print(orders.info())\n",
    "print(visitors.info())"
   ]
  },
  {
   "attachments": {},
   "cell_type": "markdown",
   "metadata": {},
   "source": [
    "**Вывод:**\n",
    "- В столбцах \"date\" необходимо будет изменить тип данных на datetime."
   ]
  },
  {
   "cell_type": "code",
   "execution_count": 9,
   "metadata": {
    "scrolled": true
   },
   "outputs": [
    {
     "name": "stdout",
     "output_type": "stream",
     "text": [
      "<class 'pandas.core.frame.DataFrame'>\n",
      "RangeIndex: 1197 entries, 0 to 1196\n",
      "Data columns (total 5 columns):\n",
      " #   Column         Non-Null Count  Dtype         \n",
      "---  ------         --------------  -----         \n",
      " 0   transactionId  1197 non-null   int64         \n",
      " 1   visitorId      1197 non-null   int64         \n",
      " 2   date           1197 non-null   datetime64[ns]\n",
      " 3   revenue        1197 non-null   int64         \n",
      " 4   group          1197 non-null   object        \n",
      "dtypes: datetime64[ns](1), int64(3), object(1)\n",
      "memory usage: 46.9+ KB\n",
      "None\n",
      "<class 'pandas.core.frame.DataFrame'>\n",
      "RangeIndex: 62 entries, 0 to 61\n",
      "Data columns (total 3 columns):\n",
      " #   Column    Non-Null Count  Dtype         \n",
      "---  ------    --------------  -----         \n",
      " 0   date      62 non-null     datetime64[ns]\n",
      " 1   group     62 non-null     object        \n",
      " 2   visitors  62 non-null     int64         \n",
      "dtypes: datetime64[ns](1), int64(1), object(1)\n",
      "memory usage: 1.6+ KB\n",
      "None\n"
     ]
    }
   ],
   "source": [
    "#меняем тип данных\n",
    "orders['date'] = pd.to_datetime(orders['date'], format='%Y-%m-%d')\n",
    "visitors['date'] = pd.to_datetime(visitors['date'], format='%Y-%m-%d')\n",
    "\n",
    "#проверяем\n",
    "print(orders.info())\n",
    "print(visitors.info())"
   ]
  },
  {
   "attachments": {},
   "cell_type": "markdown",
   "metadata": {},
   "source": [
    "**Вывод:**\n",
    "- Все изменено успешно."
   ]
  },
  {
   "cell_type": "code",
   "execution_count": 10,
   "metadata": {},
   "outputs": [
    {
     "name": "stdout",
     "output_type": "stream",
     "text": [
      "transactionId    0\n",
      "visitorId        0\n",
      "date             0\n",
      "revenue          0\n",
      "group            0\n",
      "dtype: int64\n",
      "date        0\n",
      "group       0\n",
      "visitors    0\n",
      "dtype: int64\n"
     ]
    }
   ],
   "source": [
    "#ищем пропуски в данных\n",
    "print(orders.isna().sum())\n",
    "\n",
    "print(visitors.isna().sum())"
   ]
  },
  {
   "attachments": {},
   "cell_type": "markdown",
   "metadata": {},
   "source": [
    "**Вывод:**\n",
    "- Пропусков нет."
   ]
  },
  {
   "cell_type": "code",
   "execution_count": 11,
   "metadata": {},
   "outputs": [
    {
     "name": "stdout",
     "output_type": "stream",
     "text": [
      "0\n",
      "0\n"
     ]
    }
   ],
   "source": [
    "#ищем дубликаты в данных\n",
    "print(orders.duplicated().sum())\n",
    "\n",
    "print(visitors.duplicated().sum())"
   ]
  },
  {
   "attachments": {},
   "cell_type": "markdown",
   "metadata": {},
   "source": [
    "**Вывод:**\n",
    "- Дубликатов нет."
   ]
  },
  {
   "cell_type": "code",
   "execution_count": 12,
   "metadata": {
    "scrolled": true
   },
   "outputs": [
    {
     "name": "stdout",
     "output_type": "stream",
     "text": [
      "1089\n",
      "1031\n"
     ]
    },
    {
     "data": {
      "text/plain": [
       "[3957174400,\n",
       " 3984495233,\n",
       " 2780786433,\n",
       " 1294878855,\n",
       " 1648269707,\n",
       " 1614305549,\n",
       " 4120364173,\n",
       " 232979603,\n",
       " 199603092,\n",
       " 4266935830,\n",
       " 2712142231,\n",
       " 2587333274,\n",
       " 2716752286,\n",
       " 3891541246,\n",
       " 1668030113,\n",
       " 2654030115,\n",
       " 3234906277,\n",
       " 1230306981,\n",
       " 1404934699,\n",
       " 3803269165,\n",
       " 2949041841,\n",
       " 237748145,\n",
       " 457167155,\n",
       " 2927087541,\n",
       " 1738359350,\n",
       " 3062433592,\n",
       " 3656415546,\n",
       " 818047933,\n",
       " 393266494,\n",
       " 963407295,\n",
       " 471551937,\n",
       " 2579882178,\n",
       " 3202540741,\n",
       " 2686716486,\n",
       " 1333886533,\n",
       " 2044997962,\n",
       " 3941795274,\n",
       " 1801183820,\n",
       " 2378935119,\n",
       " 4256040402,\n",
       " 4069496402,\n",
       " 3766097110,\n",
       " 8300375,\n",
       " 351125977,\n",
       " 1602967004,\n",
       " 276558944,\n",
       " 2038680547,\n",
       " 3951559397,\n",
       " 3963646447,\n",
       " 4186807279,\n",
       " 3717692402,\n",
       " 1959144690,\n",
       " 2458001652,\n",
       " 2600415354,\n",
       " 2954449915,\n",
       " 1316129916,\n",
       " 477780734,\n",
       " 3972127743]"
      ]
     },
     "execution_count": 12,
     "metadata": {},
     "output_type": "execute_result"
    }
   ],
   "source": [
    "#посмотрим число покупателей по группам\n",
    "print(orders.groupby('group').agg({'visitorId': 'nunique'}).sum()[0])\n",
    "\n",
    "#посмотрим сколько уникальных покупателей\n",
    "print(orders['visitorId'].nunique())\n",
    "\n",
    "#проверяем есть ли пользователи, участвующие сразу в двух группах теста\n",
    "group_a  = orders.loc[orders['group']=='A', 'visitorId']\n",
    "group_b = orders.loc[orders['group']=='B', 'visitorId']\n",
    "\n",
    "list(set(group_a).intersection(set(group_b)))"
   ]
  },
  {
   "attachments": {},
   "cell_type": "markdown",
   "metadata": {},
   "source": [
    "**Вывод:**\n",
    "- Пользователи, участвующие сразу в двух группах теста есть, но их количество незначительно. Возможно, это просто пользователи, которые сделали большое количество заказов. Тест продолжаем, т.к. это не повлияет на результаты. "
   ]
  },
  {
   "attachments": {},
   "cell_type": "markdown",
   "metadata": {},
   "source": [
    "### Строим график кумулятивной выручки по группам."
   ]
  },
  {
   "cell_type": "code",
   "execution_count": 13,
   "metadata": {
    "scrolled": true
   },
   "outputs": [
    {
     "data": {
      "text/html": [
       "<div>\n",
       "<style scoped>\n",
       "    .dataframe tbody tr th:only-of-type {\n",
       "        vertical-align: middle;\n",
       "    }\n",
       "\n",
       "    .dataframe tbody tr th {\n",
       "        vertical-align: top;\n",
       "    }\n",
       "\n",
       "    .dataframe thead th {\n",
       "        text-align: right;\n",
       "    }\n",
       "</style>\n",
       "<table border=\"1\" class=\"dataframe\">\n",
       "  <thead>\n",
       "    <tr style=\"text-align: right;\">\n",
       "      <th></th>\n",
       "      <th>date</th>\n",
       "      <th>group</th>\n",
       "      <th>orders</th>\n",
       "      <th>buyers</th>\n",
       "      <th>revenue</th>\n",
       "      <th>visitors</th>\n",
       "    </tr>\n",
       "  </thead>\n",
       "  <tbody>\n",
       "    <tr>\n",
       "      <th>0</th>\n",
       "      <td>2019-08-01</td>\n",
       "      <td>A</td>\n",
       "      <td>24</td>\n",
       "      <td>20</td>\n",
       "      <td>148579</td>\n",
       "      <td>719</td>\n",
       "    </tr>\n",
       "    <tr>\n",
       "      <th>1</th>\n",
       "      <td>2019-08-01</td>\n",
       "      <td>B</td>\n",
       "      <td>21</td>\n",
       "      <td>20</td>\n",
       "      <td>101217</td>\n",
       "      <td>713</td>\n",
       "    </tr>\n",
       "    <tr>\n",
       "      <th>2</th>\n",
       "      <td>2019-08-02</td>\n",
       "      <td>A</td>\n",
       "      <td>44</td>\n",
       "      <td>38</td>\n",
       "      <td>242401</td>\n",
       "      <td>1338</td>\n",
       "    </tr>\n",
       "    <tr>\n",
       "      <th>3</th>\n",
       "      <td>2019-08-02</td>\n",
       "      <td>B</td>\n",
       "      <td>45</td>\n",
       "      <td>43</td>\n",
       "      <td>266748</td>\n",
       "      <td>1294</td>\n",
       "    </tr>\n",
       "    <tr>\n",
       "      <th>4</th>\n",
       "      <td>2019-08-03</td>\n",
       "      <td>A</td>\n",
       "      <td>68</td>\n",
       "      <td>62</td>\n",
       "      <td>354874</td>\n",
       "      <td>1845</td>\n",
       "    </tr>\n",
       "  </tbody>\n",
       "</table>\n",
       "</div>"
      ],
      "text/plain": [
       "        date group  orders  buyers  revenue  visitors\n",
       "0 2019-08-01     A      24      20   148579       719\n",
       "1 2019-08-01     B      21      20   101217       713\n",
       "2 2019-08-02     A      44      38   242401      1338\n",
       "3 2019-08-02     B      45      43   266748      1294\n",
       "4 2019-08-03     A      68      62   354874      1845"
      ]
     },
     "metadata": {},
     "output_type": "display_data"
    }
   ],
   "source": [
    "#создаем массив уникальных пар значений дат и групп теста\n",
    "datesGroups = orders[['date','group']].drop_duplicates()\n",
    "\n",
    "#получаем агрегированные кумулятивные по дням данные о заказах \n",
    "ordersAggregated = datesGroups.apply(lambda x: orders[np.logical_and(orders['date'] <= x['date'], orders['group'] == x['group'])].agg({'date' : 'max', 'group' : 'max', 'transactionId' : 'nunique', 'visitorId' : 'nunique', 'revenue' : 'sum'}), axis=1).sort_values(by=['date','group'])\n",
    "\n",
    "#получаем агрегированные кумулятивные по дням данные о посетителях интернет-магазина \n",
    "visitorsAggregated = datesGroups.apply(lambda x: visitors[np.logical_and(visitors['date'] <= x['date'], visitors['group'] == x['group'])].agg({'date' : 'max', 'group' : 'max', 'visitors' : 'sum'}), axis=1).sort_values(by=['date','group'])\n",
    "\n",
    "#объединяем кумулятивные данные в одной таблице и присваиваем ее столбцам понятные названия\n",
    "cumulativeData = ordersAggregated.merge(visitorsAggregated, left_on=['date', 'group'], right_on=['date', 'group'])\n",
    "cumulativeData.columns = ['date', 'group', 'orders', 'buyers', 'revenue', 'visitors']\n",
    "\n",
    "display(cumulativeData.head(5))"
   ]
  },
  {
   "cell_type": "code",
   "execution_count": 14,
   "metadata": {},
   "outputs": [
    {
     "data": {
      "image/png": "[encoded data removed]",
      "text/plain": [
       "<Figure size 576x432 with 1 Axes>"
      ]
     },
     "metadata": {
      "needs_background": "light"
     },
     "output_type": "display_data"
    }
   ],
   "source": [
    "#создаём датафрейм с кумулятивным количеством заказов и кумулятивной выручкой по дням в группе А\n",
    "cumulativeRevenueA = cumulativeData[cumulativeData['group']=='A'][['date','revenue', 'orders']]\n",
    "\n",
    "#создаём датафрейм с кумулятивным количеством заказов и кумулятивной выручкой по дням в группе B\n",
    "cumulativeRevenueB = cumulativeData[cumulativeData['group']=='B'][['date','revenue', 'orders']]\n",
    "\n",
    "#приводим столбец 'date' к нужному формату\n",
    "cumulativeRevenueA['date'] = pd.to_datetime(cumulativeRevenueA['date'], format='%Y-%m-%d')\n",
    "cumulativeRevenueB['date'] = pd.to_datetime(cumulativeRevenueB['date'], format='%Y-%m-%d')\n",
    "\n",
    "#строим график выручки групп А и B\n",
    "fig = plt.figure(figsize=[8,6])\n",
    "\n",
    "plt.plot(cumulativeRevenueA['date'], cumulativeRevenueA['revenue'], label='A')\n",
    "plt.plot(cumulativeRevenueB['date'], cumulativeRevenueB['revenue'], label='B')\n",
    "fig.autofmt_xdate()\n",
    "\n",
    "plt.title('Кумулятивная выручка по дням и группам A/B-тестирования')\n",
    "plt.xlabel('Дата')\n",
    "plt.ylabel('Выручка')\n",
    "\n",
    "plt.show()"
   ]
  },
  {
   "attachments": {},
   "cell_type": "markdown",
   "metadata": {},
   "source": [
    "**Вывод:**\n",
    "- Выручка группы А почти равномерно увеличивается в течение всего теста. Выручка группы В в нескольких точках резко растёт, особенно выделяется на графике резкий рост 2019-08-18. Это может сигнализировать о всплесках числа заказов, либо о появлении очень дорогих заказов в выборке."
   ]
  },
  {
   "attachments": {},
   "cell_type": "markdown",
   "metadata": {},
   "source": [
    "### Строим график кумулятивного среднего чека по группам."
   ]
  },
  {
   "cell_type": "code",
   "execution_count": 15,
   "metadata": {},
   "outputs": [
    {
     "data": {
      "image/png": "[encoded data removed]",
      "text/plain": [
       "<Figure size 576x432 with 1 Axes>"
      ]
     },
     "metadata": {
      "needs_background": "light"
     },
     "output_type": "display_data"
    }
   ],
   "source": [
    "#строим график\n",
    "fig = plt.figure(figsize=[8,6])\n",
    "\n",
    "plt.plot(cumulativeRevenueA['date'], cumulativeRevenueA['revenue']/cumulativeRevenueA['orders'], label='A')\n",
    "plt.plot(cumulativeRevenueB['date'], cumulativeRevenueB['revenue']/cumulativeRevenueB['orders'], label='B')\n",
    "\n",
    "fig.autofmt_xdate()\n",
    "plt.legend()\n",
    "\n",
    "plt.title('Кумулятивный средний чек по дням и группам A/B-тестирования')\n",
    "plt.xlabel('Дата')\n",
    "plt.ylabel('Выручка')\n",
    "\n",
    "plt.show()"
   ]
  },
  {
   "attachments": {},
   "cell_type": "markdown",
   "metadata": {},
   "source": [
    "**Вывод:**\n",
    "- Средний чек становится равномерным ближе к концу теста, до этого на графике мы видим всплески в группах А и В. Возможно, в группу B 2019-08-18 попал очень крупный заказ (резкий всплеск на графике). "
   ]
  },
  {
   "attachments": {},
   "cell_type": "markdown",
   "metadata": {},
   "source": [
    "### Строим график относительного изменения кумулятивного среднего чека группы B к группе A."
   ]
  },
  {
   "cell_type": "code",
   "execution_count": 16,
   "metadata": {},
   "outputs": [
    {
     "data": {
      "image/png": "[encoded data removed]",
      "text/plain": [
       "<Figure size 720x504 with 1 Axes>"
      ]
     },
     "metadata": {
      "needs_background": "light"
     },
     "output_type": "display_data"
    }
   ],
   "source": [
    "#собираем данные в одном датафрейме\n",
    "mergedCumulativeRevenue = cumulativeRevenueA.merge(cumulativeRevenueB, left_on='date', right_on='date', how='left', suffixes=['A', 'B'])\n",
    "\n",
    "#cтроим график\n",
    "fig = plt.figure(figsize=[10,7])\n",
    "plt.plot(mergedCumulativeRevenue['date'], (mergedCumulativeRevenue['revenueB']/mergedCumulativeRevenue['ordersB'])/(mergedCumulativeRevenue['revenueA']/mergedCumulativeRevenue['ordersA'])-1)\n",
    "fig.autofmt_xdate()\n",
    "\n",
    "# добавляем ось X\n",
    "plt.axhline(y=0, color='black', linestyle='--')\n",
    "\n",
    "\n",
    "plt.title('Относительное изменение кумулятивного среднего чека группы B к группе A')\n",
    "plt.show()"
   ]
  },
  {
   "attachments": {},
   "cell_type": "markdown",
   "metadata": {},
   "source": [
    "**Вывод:**\n",
    "- В нескольких точках график различия между сегментами резко «скачет». Сначала средний чек группы B прогрессивно растет, затем резко падает, потом снова резко взлетает. Вероятно, имеются крупные заказы и выбросы."
   ]
  },
  {
   "attachments": {},
   "cell_type": "markdown",
   "metadata": {},
   "source": [
    "### Строим график кумулятивной конверсии по группам."
   ]
  },
  {
   "cell_type": "code",
   "execution_count": 17,
   "metadata": {},
   "outputs": [
    {
     "data": {
      "image/png": "[encoded data removed]",
      "text/plain": [
       "<Figure size 1152x432 with 1 Axes>"
      ]
     },
     "metadata": {
      "needs_background": "light"
     },
     "output_type": "display_data"
    }
   ],
   "source": [
    "#считаем кумулятивную конверсию\n",
    "cumulativeData['conversion'] = cumulativeData['orders']/cumulativeData['visitors']\n",
    "\n",
    "#отделяем данные по группе A\n",
    "cumulativeDataA = cumulativeData[cumulativeData['group']=='A']\n",
    "\n",
    "#отделяем данные по группе B\n",
    "cumulativeDataB = cumulativeData[cumulativeData['group']=='B']\n",
    "\n",
    "#строим графики\n",
    "fig = plt.figure(figsize=[16,6])\n",
    "plt.plot(cumulativeDataA['date'], cumulativeDataA['conversion'], label='A')\n",
    "plt.plot(cumulativeDataB['date'], cumulativeDataB['conversion'], label='B')\n",
    "fig.autofmt_xdate()\n",
    "plt.legend()\n",
    "\n",
    "plt.title('Кумулятивная конверсия по группам')\n",
    "plt.show()"
   ]
  },
  {
   "attachments": {},
   "cell_type": "markdown",
   "metadata": {},
   "source": [
    "**Вывод:**\n",
    "- Видно, что график получился несимметричный. Группы колебались около одного значения, но затем конверсия группы B вырвалась вперёд, а конверсия группы A просела, после чего обе группы зафиксировались."
   ]
  },
  {
   "attachments": {},
   "cell_type": "markdown",
   "metadata": {},
   "source": [
    "### Строим график относительного изменения кумулятивной конверсии группы B к группе A."
   ]
  },
  {
   "cell_type": "code",
   "execution_count": 18,
   "metadata": {},
   "outputs": [
    {
     "data": {
      "image/png": "[encoded data removed]",
      "text/plain": [
       "<Figure size 1152x504 with 1 Axes>"
      ]
     },
     "metadata": {
      "needs_background": "light"
     },
     "output_type": "display_data"
    }
   ],
   "source": [
    "mergedCumulativeConversions = cumulativeDataA[['date','conversion']].merge(cumulativeDataB[['date','conversion']], left_on='date', right_on='date', how='left', suffixes=['A', 'B'])\n",
    "\n",
    "fig = plt.figure(figsize=[16,7])\n",
    "plt.plot(mergedCumulativeConversions['date'], mergedCumulativeConversions['conversionB']/mergedCumulativeConversions['conversionA']-1, label=\"Относительный прирост конверсии группы B относительно группы A\")\n",
    "plt.legend()\n",
    "\n",
    "fig.autofmt_xdate()\n",
    "plt.axhline(y=0, color='black', linestyle='--')\n",
    "plt.axhline(y=0.1, color='grey', linestyle='--')\n",
    "\n",
    "plt.title('Относительное изменение кумулятивной конверсии группы B к группе A')\n",
    "plt.show()"
   ]
  },
  {
   "attachments": {},
   "cell_type": "markdown",
   "metadata": {},
   "source": [
    "**Вывод:**\n",
    "- В начале теста группа B проигрывала группе A, затем вырвалась вперёд. Потом её конверсия зафиксировалась стабильно выше группы А. Стоит проанализировать аномалии, возможно, они изменят картину."
   ]
  },
  {
   "attachments": {},
   "cell_type": "markdown",
   "metadata": {},
   "source": [
    "### Строим точечный график количества заказов по пользователям."
   ]
  },
  {
   "cell_type": "code",
   "execution_count": 19,
   "metadata": {},
   "outputs": [
    {
     "data": {
      "text/html": [
       "<div>\n",
       "<style scoped>\n",
       "    .dataframe tbody tr th:only-of-type {\n",
       "        vertical-align: middle;\n",
       "    }\n",
       "\n",
       "    .dataframe tbody tr th {\n",
       "        vertical-align: top;\n",
       "    }\n",
       "\n",
       "    .dataframe thead th {\n",
       "        text-align: right;\n",
       "    }\n",
       "</style>\n",
       "<table border=\"1\" class=\"dataframe\">\n",
       "  <thead>\n",
       "    <tr style=\"text-align: right;\">\n",
       "      <th></th>\n",
       "      <th>visitors</th>\n",
       "      <th>orders</th>\n",
       "    </tr>\n",
       "  </thead>\n",
       "  <tbody>\n",
       "    <tr>\n",
       "      <th>1023</th>\n",
       "      <td>4256040402</td>\n",
       "      <td>11</td>\n",
       "    </tr>\n",
       "    <tr>\n",
       "      <th>591</th>\n",
       "      <td>2458001652</td>\n",
       "      <td>11</td>\n",
       "    </tr>\n",
       "    <tr>\n",
       "      <th>569</th>\n",
       "      <td>2378935119</td>\n",
       "      <td>9</td>\n",
       "    </tr>\n",
       "    <tr>\n",
       "      <th>487</th>\n",
       "      <td>2038680547</td>\n",
       "      <td>8</td>\n",
       "    </tr>\n",
       "    <tr>\n",
       "      <th>44</th>\n",
       "      <td>199603092</td>\n",
       "      <td>5</td>\n",
       "    </tr>\n",
       "    <tr>\n",
       "      <th>744</th>\n",
       "      <td>3062433592</td>\n",
       "      <td>5</td>\n",
       "    </tr>\n",
       "    <tr>\n",
       "      <th>55</th>\n",
       "      <td>237748145</td>\n",
       "      <td>5</td>\n",
       "    </tr>\n",
       "    <tr>\n",
       "      <th>917</th>\n",
       "      <td>3803269165</td>\n",
       "      <td>5</td>\n",
       "    </tr>\n",
       "    <tr>\n",
       "      <th>299</th>\n",
       "      <td>1230306981</td>\n",
       "      <td>5</td>\n",
       "    </tr>\n",
       "    <tr>\n",
       "      <th>897</th>\n",
       "      <td>3717692402</td>\n",
       "      <td>5</td>\n",
       "    </tr>\n",
       "  </tbody>\n",
       "</table>\n",
       "</div>"
      ],
      "text/plain": [
       "        visitors  orders\n",
       "1023  4256040402      11\n",
       "591   2458001652      11\n",
       "569   2378935119       9\n",
       "487   2038680547       8\n",
       "44     199603092       5\n",
       "744   3062433592       5\n",
       "55     237748145       5\n",
       "917   3803269165       5\n",
       "299   1230306981       5\n",
       "897   3717692402       5"
      ]
     },
     "metadata": {},
     "output_type": "display_data"
    }
   ],
   "source": [
    "#считаем количество заказов по пользователям и посмотрим на результат\n",
    "ordersByUsers = orders.drop(['group', 'revenue', 'date'], axis=1).groupby('visitorId', as_index=False).agg({'transactionId' : pd.Series.nunique})\n",
    "\n",
    "#переименовываем столбцы\n",
    "ordersByUsers.columns = ['visitors','orders']\n",
    "\n",
    "display(ordersByUsers.sort_values(by='orders',ascending=False).head(10))"
   ]
  },
  {
   "cell_type": "code",
   "execution_count": 20,
   "metadata": {},
   "outputs": [
    {
     "data": {
      "image/png": "[encoded data removed]",
      "text/plain": [
       "<Figure size 1080x360 with 1 Axes>"
      ]
     },
     "metadata": {
      "needs_background": "light"
     },
     "output_type": "display_data"
    }
   ],
   "source": [
    "#строим гистрограмму распределения количества заказов на одного пользователя\n",
    "plt.figure(figsize=(15,5))\n",
    "plt.hist(ordersByUsers['orders'])\n",
    "plt.title('Гистрограмма распределения количества заказов на одного пользователя')\n",
    "plt.xlabel('Количество заказов')\n",
    "plt.ylabel('Пользователи')\n",
    "\n",
    "plt.show()"
   ]
  },
  {
   "attachments": {},
   "cell_type": "markdown",
   "metadata": {},
   "source": [
    "**Вывод:**\n",
    "- Большая часть покупателей делали один заказ. Также на графике видно, что имеется значительное количество пользователей сделавших от 2х до 4х заказов."
   ]
  },
  {
   "cell_type": "code",
   "execution_count": 21,
   "metadata": {},
   "outputs": [
    {
     "data": {
      "image/png": "[encoded data removed]",
      "text/plain": [
       "<Figure size 1080x360 with 1 Axes>"
      ]
     },
     "metadata": {
      "needs_background": "light"
     },
     "output_type": "display_data"
    }
   ],
   "source": [
    "#строим точечную диаграмму числа заказов на одного пользователя\n",
    "x_values = pd.Series(range(0,len(ordersByUsers)))\n",
    "plt.figure(figsize=(15,5))\n",
    "plt.scatter(x_values, ordersByUsers['orders'])\n",
    "plt.title('Точечная диаграмма числа заказов на одного пользователя')\n",
    "plt.ylabel('Пользователи')\n",
    "plt.xlabel('Количество заказов')\n",
    "\n",
    "plt.show()"
   ]
  },
  {
   "attachments": {},
   "cell_type": "markdown",
   "metadata": {},
   "source": [
    "**Вывод:**\n",
    "- На графике можно отметить значительное количество пользователей с 2-4 заказами. Преобладающее большенство пользователей делали один заказ."
   ]
  },
  {
   "attachments": {},
   "cell_type": "markdown",
   "metadata": {},
   "source": [
    "### Считаем 95-й и 99-й перцентили количества заказов на пользователя."
   ]
  },
  {
   "cell_type": "code",
   "execution_count": 22,
   "metadata": {},
   "outputs": [
    {
     "name": "stdout",
     "output_type": "stream",
     "text": [
      "[2. 4.]\n"
     ]
    }
   ],
   "source": [
    "print(np.percentile(ordersByUsers['orders'], [95, 99]))"
   ]
  },
  {
   "attachments": {},
   "cell_type": "markdown",
   "metadata": {},
   "source": [
    "**Вывод:**\n",
    "- Не более 5% пользователей сделали более двух заказов. Разумно выбрать 2 заказа на одного пользователя за верхнюю границу числа заказов."
   ]
  },
  {
   "attachments": {},
   "cell_type": "markdown",
   "metadata": {},
   "source": [
    "### Строим точечный график стоимостей заказов."
   ]
  },
  {
   "cell_type": "code",
   "execution_count": 23,
   "metadata": {},
   "outputs": [
    {
     "data": {
      "image/png": "[encoded data removed]",
      "text/plain": [
       "<Figure size 432x288 with 1 Axes>"
      ]
     },
     "metadata": {
      "needs_background": "light"
     },
     "output_type": "display_data"
    }
   ],
   "source": [
    "x_values = pd.Series(range(0,len(orders['revenue'])))\n",
    "plt.scatter(x_values, orders['revenue'])\n",
    "\n",
    "plt.title('Гистрограмма распределения стоимостей заказов')\n",
    "plt.ylabel('Стоимость заказов')\n",
    "plt.xlabel('Номера заказов')\n",
    "plt.show()"
   ]
  },
  {
   "cell_type": "code",
   "execution_count": 24,
   "metadata": {},
   "outputs": [
    {
     "data": {
      "image/png": "[encoded data removed]",
      "text/plain": [
       "<Figure size 1080x360 with 1 Axes>"
      ]
     },
     "metadata": {
      "needs_background": "light"
     },
     "output_type": "display_data"
    }
   ],
   "source": [
    "x_values = pd.Series(range(0,len(orders['revenue'])))\n",
    "plt.figure(figsize=(15,5))\n",
    "plt.scatter(x_values, orders['revenue'])\n",
    "\n",
    "plt.title('Точечный график стоимостей заказов')\n",
    "plt.ylabel('Стоимость заказов')\n",
    "plt.xlabel('Номера заказов')\n",
    "plt.show()"
   ]
  },
  {
   "cell_type": "code",
   "execution_count": 25,
   "metadata": {},
   "outputs": [
    {
     "data": {
      "image/png": "[encoded data removed]",
      "text/plain": [
       "<Figure size 1080x360 with 1 Axes>"
      ]
     },
     "metadata": {
      "needs_background": "light"
     },
     "output_type": "display_data"
    }
   ],
   "source": [
    "#строим более наглядный график, для это уберем явные выбросы\n",
    "norm_orders = orders[orders['revenue']<=150000]['revenue']\n",
    "\n",
    "xn_values = pd.Series(range(0,len(norm_orders)))\n",
    "plt.figure(figsize=(15,5))\n",
    "plt.scatter(xn_values, norm_orders, alpha=0.5)\n",
    "plt.grid()\n",
    "\n",
    "plt.title('Точечный график стоимостей заказов без \"выбросов\"')\n",
    "plt.ylabel('Стоимость заказов')\n",
    "plt.xlabel('Номера заказов')\n",
    "plt.show()"
   ]
  },
  {
   "attachments": {},
   "cell_type": "markdown",
   "metadata": {},
   "source": [
    "**Вывод:**\n",
    "- Бльшая часть заказов находится в пределах 100тыс, но есть выбросы. На графике видно заказ, стоимостью более 1млн., скорее всего этот заказ отразился на всех графиках."
   ]
  },
  {
   "attachments": {},
   "cell_type": "markdown",
   "metadata": {},
   "source": [
    "### Считаем 95-й и 99-й перцентили стоимости заказов."
   ]
  },
  {
   "cell_type": "code",
   "execution_count": 26,
   "metadata": {},
   "outputs": [
    {
     "name": "stdout",
     "output_type": "stream",
     "text": [
      "[28000.  58233.2]\n"
     ]
    }
   ],
   "source": [
    "print(np.percentile(orders['revenue'], [95, 99]))"
   ]
  },
  {
   "attachments": {},
   "cell_type": "markdown",
   "metadata": {},
   "source": [
    "**Вывод:**\n",
    "- Менее 5% заказов стоят дороже 28000. Возьмём 28000 за границу для определения аномальных заказов."
   ]
  },
  {
   "attachments": {},
   "cell_type": "markdown",
   "metadata": {},
   "source": [
    "### Считаем статистическую значимость различий в конверсии между группами по «сырым» данным."
   ]
  },
  {
   "cell_type": "code",
   "execution_count": 27,
   "metadata": {},
   "outputs": [
    {
     "data": {
      "text/html": [
       "<div>\n",
       "<style scoped>\n",
       "    .dataframe tbody tr th:only-of-type {\n",
       "        vertical-align: middle;\n",
       "    }\n",
       "\n",
       "    .dataframe tbody tr th {\n",
       "        vertical-align: top;\n",
       "    }\n",
       "\n",
       "    .dataframe thead th {\n",
       "        text-align: right;\n",
       "    }\n",
       "</style>\n",
       "<table border=\"1\" class=\"dataframe\">\n",
       "  <thead>\n",
       "    <tr style=\"text-align: right;\">\n",
       "      <th></th>\n",
       "      <th>date</th>\n",
       "      <th>ordersPerDateA</th>\n",
       "      <th>revenuePerDateA</th>\n",
       "      <th>ordersPerDateB</th>\n",
       "      <th>revenuePerDateB</th>\n",
       "      <th>ordersCummulativeA</th>\n",
       "      <th>revenueCummulativeA</th>\n",
       "      <th>ordersCummulativeB</th>\n",
       "      <th>revenueCummulativeB</th>\n",
       "      <th>visitorsPerDateA</th>\n",
       "      <th>visitorsPerDateB</th>\n",
       "      <th>visitorsCummulativeA</th>\n",
       "      <th>visitorsCummulativeB</th>\n",
       "    </tr>\n",
       "  </thead>\n",
       "  <tbody>\n",
       "    <tr>\n",
       "      <th>0</th>\n",
       "      <td>2019-08-01</td>\n",
       "      <td>24</td>\n",
       "      <td>148579</td>\n",
       "      <td>21</td>\n",
       "      <td>101217</td>\n",
       "      <td>24</td>\n",
       "      <td>148579</td>\n",
       "      <td>21</td>\n",
       "      <td>101217</td>\n",
       "      <td>719</td>\n",
       "      <td>713</td>\n",
       "      <td>719</td>\n",
       "      <td>713</td>\n",
       "    </tr>\n",
       "    <tr>\n",
       "      <th>1</th>\n",
       "      <td>2019-08-02</td>\n",
       "      <td>20</td>\n",
       "      <td>93822</td>\n",
       "      <td>24</td>\n",
       "      <td>165531</td>\n",
       "      <td>44</td>\n",
       "      <td>242401</td>\n",
       "      <td>45</td>\n",
       "      <td>266748</td>\n",
       "      <td>619</td>\n",
       "      <td>581</td>\n",
       "      <td>1338</td>\n",
       "      <td>1294</td>\n",
       "    </tr>\n",
       "    <tr>\n",
       "      <th>2</th>\n",
       "      <td>2019-08-03</td>\n",
       "      <td>24</td>\n",
       "      <td>112473</td>\n",
       "      <td>16</td>\n",
       "      <td>114248</td>\n",
       "      <td>68</td>\n",
       "      <td>354874</td>\n",
       "      <td>61</td>\n",
       "      <td>380996</td>\n",
       "      <td>507</td>\n",
       "      <td>509</td>\n",
       "      <td>1845</td>\n",
       "      <td>1803</td>\n",
       "    </tr>\n",
       "    <tr>\n",
       "      <th>3</th>\n",
       "      <td>2019-08-04</td>\n",
       "      <td>16</td>\n",
       "      <td>70825</td>\n",
       "      <td>17</td>\n",
       "      <td>108571</td>\n",
       "      <td>84</td>\n",
       "      <td>425699</td>\n",
       "      <td>78</td>\n",
       "      <td>489567</td>\n",
       "      <td>717</td>\n",
       "      <td>770</td>\n",
       "      <td>2562</td>\n",
       "      <td>2573</td>\n",
       "    </tr>\n",
       "    <tr>\n",
       "      <th>4</th>\n",
       "      <td>2019-08-05</td>\n",
       "      <td>25</td>\n",
       "      <td>124218</td>\n",
       "      <td>23</td>\n",
       "      <td>92428</td>\n",
       "      <td>109</td>\n",
       "      <td>549917</td>\n",
       "      <td>101</td>\n",
       "      <td>581995</td>\n",
       "      <td>756</td>\n",
       "      <td>707</td>\n",
       "      <td>3318</td>\n",
       "      <td>3280</td>\n",
       "    </tr>\n",
       "  </tbody>\n",
       "</table>\n",
       "</div>"
      ],
      "text/plain": [
       "        date  ordersPerDateA  revenuePerDateA  ordersPerDateB  \\\n",
       "0 2019-08-01              24           148579              21   \n",
       "1 2019-08-02              20            93822              24   \n",
       "2 2019-08-03              24           112473              16   \n",
       "3 2019-08-04              16            70825              17   \n",
       "4 2019-08-05              25           124218              23   \n",
       "\n",
       "   revenuePerDateB  ordersCummulativeA  revenueCummulativeA  \\\n",
       "0           101217                  24               148579   \n",
       "1           165531                  44               242401   \n",
       "2           114248                  68               354874   \n",
       "3           108571                  84               425699   \n",
       "4            92428                 109               549917   \n",
       "\n",
       "   ordersCummulativeB  revenueCummulativeB  visitorsPerDateA  \\\n",
       "0                  21               101217               719   \n",
       "1                  45               266748               619   \n",
       "2                  61               380996               507   \n",
       "3                  78               489567               717   \n",
       "4                 101               581995               756   \n",
       "\n",
       "   visitorsPerDateB  visitorsCummulativeA  visitorsCummulativeB  \n",
       "0               713                   719                   713  \n",
       "1               581                  1338                  1294  \n",
       "2               509                  1845                  1803  \n",
       "3               770                  2562                  2573  \n",
       "4               707                  3318                  3280  "
      ]
     },
     "metadata": {},
     "output_type": "display_data"
    }
   ],
   "source": [
    "#считаем количество пользователей до выбранной даты включительно в группах A и B\n",
    "\n",
    "visitorsADaily = visitors[visitors['group']=='A'][['date', 'visitors']]\n",
    "visitorsADaily.columns = ['date', 'visitorsPerDateA']\n",
    "\n",
    "visitorsACummulative = visitorsADaily.apply(lambda x: visitorsADaily[visitorsADaily['date'] <= x['date']].agg({'date' : 'max', 'visitorsPerDateA' : 'sum'}), axis=1)\n",
    "visitorsACummulative.columns = ['date', 'visitorsCummulativeA']\n",
    "\n",
    "visitorsBDaily = visitors[visitors['group']=='B'][['date', 'visitors']]\n",
    "visitorsBDaily.columns = ['date', 'visitorsPerDateB']\n",
    "\n",
    "visitorsBCummulative = visitorsBDaily.apply(lambda x: visitorsBDaily[visitorsBDaily['date'] <= x['date']].agg({'date' : 'max', 'visitorsPerDateB' : 'sum'}), axis=1)\n",
    "visitorsBCummulative.columns = ['date', 'visitorsCummulativeB']\n",
    "\n",
    "#считаем суммарное число заказов до выбранной даты включительно в группах A и B\n",
    "ordersADaily = orders[orders['group']=='A'][['date', 'transactionId', 'visitorId', 'revenue']]\\\n",
    "    .groupby('date', as_index=False)\\\n",
    "    .agg({'transactionId' : pd.Series.nunique, 'revenue' : 'sum'})\n",
    "ordersADaily.columns = ['date', 'ordersPerDateA', 'revenuePerDateA']\n",
    "\n",
    "ordersACummulative = ordersADaily.apply(\n",
    "    lambda x: \\\n",
    "        ordersADaily[ordersADaily['date'] <= x['date']]\\\n",
    "            .agg({\n",
    "                'date' : 'max',\n",
    "                'ordersPerDateA' : 'sum',\n",
    "                'revenuePerDateA' : 'sum'}), axis=1).sort_values(by=['date'])\n",
    "ordersACummulative.columns = ['date', 'ordersCummulativeA', 'revenueCummulativeA']\n",
    "\n",
    "ordersBDaily = orders[orders['group']=='B'][['date', 'transactionId', 'visitorId', 'revenue']]\\\n",
    "    .groupby('date', as_index=False)\\\n",
    "    .agg({'transactionId' : pd.Series.nunique, 'revenue' : 'sum'})\n",
    "ordersBDaily.columns = ['date', 'ordersPerDateB', 'revenuePerDateB']\n",
    "\n",
    "ordersBCummulative = ordersBDaily.apply(\n",
    "    lambda x: \\\n",
    "        ordersBDaily[ordersBDaily['date'] <= x['date']]\\\n",
    "            .agg({\n",
    "                'date' : 'max',\n",
    "                'ordersPerDateB' : 'sum',\n",
    "                'revenuePerDateB' : 'sum'}), axis=1).sort_values(by=['date'])\n",
    "ordersBCummulative.columns = ['date', 'ordersCummulativeB', 'revenueCummulativeB']\n",
    "\n",
    "\n",
    "# Получаем таблицу с количеством заказов, выручкой в день, количество заказов и выручка до выбранной даты(включительно)\n",
    "# Количество пользователей до выбранной даты \n",
    "data = ordersADaily.merge(ordersBDaily, left_on='date', right_on='date', how='left')\\\n",
    "    .merge(ordersACummulative, left_on='date', right_on='date', how='left')\\\n",
    "    .merge(ordersBCummulative, left_on='date', right_on='date', how='left')\\\n",
    "    .merge(visitorsADaily, left_on='date', right_on='date', how='left')\\\n",
    "    .merge(visitorsBDaily, left_on='date', right_on='date', how='left')\\\n",
    "    .merge(visitorsACummulative, left_on='date', right_on='date', how='left')\\\n",
    "    .merge(visitorsBCummulative, left_on='date', right_on='date', how='left')\n",
    "\n",
    "display(data.head(5))"
   ]
  },
  {
   "cell_type": "code",
   "execution_count": 28,
   "metadata": {},
   "outputs": [],
   "source": [
    "#создаём переменные ordersByUsersA и ordersByUsersB со столбцами 'userId' и 'orders'\n",
    "#в столбцах для пользователей, которые заказывали хотя бы 1 раз, указываем число совершённых заказов\n",
    "\n",
    "ordersByUsersA = orders[orders['group']=='A'].groupby('visitorId', as_index=False).agg({'transactionId' : pd.Series.nunique})\n",
    "ordersByUsersA.columns = ['userId', 'orders']\n",
    "\n",
    "ordersByUsersB = orders[orders['group']=='B'].groupby('visitorId', as_index=False).agg({'transactionId' : pd.Series.nunique})\n",
    "ordersByUsersB.columns = ['userId', 'orders']"
   ]
  },
  {
   "attachments": {},
   "cell_type": "markdown",
   "metadata": {},
   "source": [
    "**Подготавливаем выборки к проверке критерием Манна-Уитни.** Так как у нас в данных есть большие (по сравнению с нормальным распределением) выбросы, сильно сдвигающие параметрические результаты."
   ]
  },
  {
   "cell_type": "code",
   "execution_count": 29,
   "metadata": {},
   "outputs": [],
   "source": [
    "#объявляем переменные,где пользователям из разных групп будет соответствовать количество заказов \n",
    "#тем, кто ничего не заказал присваиваем нули\n",
    "sampleA = pd.concat([ordersByUsersA['orders'],pd.Series(0, index=np.arange(data['visitorsPerDateA'].sum() - len(ordersByUsersA['orders'])), name='orders')],axis=0)\n",
    "sampleB = pd.concat([ordersByUsersB['orders'],pd.Series(0, index=np.arange(data['visitorsPerDateB'].sum() - len(ordersByUsersB['orders'])), name='orders')],axis=0)"
   ]
  },
  {
   "cell_type": "code",
   "execution_count": 30,
   "metadata": {},
   "outputs": [],
   "source": [
    "#выводим относительный прирост среднего числа заказов группы B\n",
    "ordersByUsersA = orders[orders['group']=='A'].groupby('visitorId', as_index=False).agg({'transactionId' : pd.Series.nunique})\n",
    "ordersByUsersA.columns = ['userId', 'orders']\n",
    "\n",
    "ordersByUsersB = orders[orders['group']=='B'].groupby('visitorId', as_index=False).agg({'transactionId' : pd.Series.nunique})\n",
    "ordersByUsersB.columns = ['userId', 'orders']\n",
    "\n",
    "sampleA = pd.concat([ordersByUsersA['orders'],pd.Series(0, index=np.arange(data['visitorsPerDateA'].sum() - len(ordersByUsersA['orders'])), name='orders')],axis=0)\n",
    "\n",
    "sampleB = pd.concat([ordersByUsersB['orders'],pd.Series(0, index=np.arange(data['visitorsPerDateB'].sum() - len(ordersByUsersB['orders'])), name='orders')],axis=0)"
   ]
  },
  {
   "attachments": {},
   "cell_type": "markdown",
   "metadata": {},
   "source": [
    "**Формулируем гипотезы.** \n",
    "\n",
    "- Нулевая гипотеза: В конверсии по «сырым» данным между группами различий нет. \n",
    "- Альтернативная гипотеза: Имеются статистически значимые различия в конверсии по «сырым» данным между группами."
   ]
  },
  {
   "cell_type": "code",
   "execution_count": 31,
   "metadata": {},
   "outputs": [
    {
     "name": "stdout",
     "output_type": "stream",
     "text": [
      "p-value: 0.017\n",
      "Относительная разница в сравниваемых величинах: 0.138\n"
     ]
    }
   ],
   "source": [
    "print(\"p-value:\", \"{0:.3f}\".format(stats.mannwhitneyu(sampleA, sampleB)[1]))\n",
    "\n",
    "print(\"Относительная разница в сравниваемых величинах:\", \"{0:.3f}\".format(sampleB.mean()/sampleA.mean()-1))"
   ]
  },
  {
   "attachments": {},
   "cell_type": "markdown",
   "metadata": {},
   "source": [
    "**Вывод:**\n",
    "- P-value меньше 0.05. Значит, нулевую гипотезу о том, что статистически значимых различий в конверсии между группами нет - отвергаем.\n",
    "- По «сырым» данным мы видим различия в конверсии групп A и B. Относительная разница в конверсиях примерно 14%, благодаря приросту в группе В.\n"
   ]
  },
  {
   "attachments": {},
   "cell_type": "markdown",
   "metadata": {},
   "source": [
    "### Считаем статистическую значимость различий в среднем чеке заказа между группами по «сырым» данным."
   ]
  },
  {
   "attachments": {},
   "cell_type": "markdown",
   "metadata": {},
   "source": [
    "**Формулируем гипотезы.** \n",
    "- Нулевая гипотеза: В среднем чеке заказа по «сырым» данным между группами различий нет. \n",
    "- Альтернативная гипотеза: Имеются статистически значимые различия в среднем чеке заказа по «сырым» данным между группами."
   ]
  },
  {
   "cell_type": "code",
   "execution_count": 32,
   "metadata": {},
   "outputs": [
    {
     "name": "stdout",
     "output_type": "stream",
     "text": [
      "p-value: 0.729\n",
      "Относительная разница в сравниваемых величинах: 0.259\n"
     ]
    }
   ],
   "source": [
    "#передаём критерию mannwhitneyu() данные о выручке с заказов\n",
    "#находим относительные различия в среднем чеке между группами\n",
    "print(\"p-value:\", \"{0:.3f}\".format(stats.mannwhitneyu(orders[orders['group']=='A']['revenue'], orders[orders['group']=='B']['revenue'])[1]))\n",
    "print(\"Относительная разница в сравниваемых величинах:\", \"{0:.3f}\".format(orders[orders['group']=='B']['revenue'].mean()/orders[orders['group']=='A']['revenue'].mean()-1))"
   ]
  },
  {
   "attachments": {},
   "cell_type": "markdown",
   "metadata": {},
   "source": [
    "**Вывод:**\n",
    "- P-value значительно больше 0.05. Значит, причин отвергать нулевую гипотезу и считать, что в среднем чеке заказа между группами различий нет, нет. Впрочем, средний чек группы B почти на 26% выше среднего чека группы A."
   ]
  },
  {
   "attachments": {},
   "cell_type": "markdown",
   "metadata": {},
   "source": [
    "### Считаем статистическую значимость различий в конверсии между группами по «очищенным» данным."
   ]
  },
  {
   "attachments": {},
   "cell_type": "markdown",
   "metadata": {},
   "source": [
    "- Следует отметить, что 95-й перцентиль стоимости заказов равен 28000. Возьмёи его за границу для определения аномальных заказов. Также, не более 5% пользователей сделали более двух заказов. Выбраем 2 заказа на одного пользователя за верхнюю границу числа заказов.\n",
    "- Принимаем за аномальных пользователей тех, кто совершил более 2 заказов или совершил заказ дороже 28000. Так мы убираем 5% пользователей с наибольшим числом заказов и пользователей с дорогими заказами. Делаем срезы пользователей с числом заказов больше 2 — usersWithManyOrders и пользователей, совершивших заказы дороже 28000 — usersWithExpensiveOrders. Объединяем их в таблице abnormalUsers."
   ]
  },
  {
   "cell_type": "code",
   "execution_count": 33,
   "metadata": {},
   "outputs": [
    {
     "name": "stdout",
     "output_type": "stream",
     "text": [
      "1099    148427295\n",
      "18      199603092\n",
      "928     204675465\n",
      "23      237748145\n",
      "37      249864742\n",
      "dtype: int64\n",
      "Всего аномальных пользователей: 74\n"
     ]
    }
   ],
   "source": [
    "#делаем срезы пользователей с числом заказов больше 2 — usersWithManyOrders\n",
    "#и пользователей, совершивших заказы дороже 28000 — usersWithExpensiveOrders \n",
    "#объединяем их в таблице abnormalUsers \n",
    "#узнаем, сколько всего аномальных пользователей методом shape()\n",
    "\n",
    "usersWithManyOrders = pd.concat([ordersByUsersA[ordersByUsersA['orders'] > np.percentile(ordersByUsersA['orders'], 95)]['userId'], ordersByUsersB[ordersByUsersB['orders'] > np.percentile(ordersByUsersB['orders'], 95)]['userId']], axis = 0)\n",
    "usersWithExpensiveOrders = orders[orders['revenue'] > np.percentile(orders['revenue'], 95)]['visitorId']\n",
    "abnormalUsers = pd.concat([usersWithManyOrders, usersWithExpensiveOrders], axis = 0).drop_duplicates().sort_values()\n",
    "print(abnormalUsers.head(5))\n",
    "print(\"Всего аномальных пользователей:\", abnormalUsers.shape[0])"
   ]
  },
  {
   "cell_type": "code",
   "execution_count": 34,
   "metadata": {},
   "outputs": [
    {
     "name": "stdout",
     "output_type": "stream",
     "text": [
      "Относительные потери пользователей составили: 0.072\n"
     ]
    }
   ],
   "source": [
    "#оцениваем относительные потери пользователей\n",
    "print(\"Относительные потери пользователей составили:\", \"{0:.3f}\".format(74/orders['visitorId'].nunique()))"
   ]
  },
  {
   "attachments": {},
   "cell_type": "markdown",
   "metadata": {},
   "source": [
    "**Вывод:**\n",
    "- Относительные потери пользователей составили примерно 7%."
   ]
  },
  {
   "attachments": {},
   "cell_type": "markdown",
   "metadata": {},
   "source": [
    "**Формулируем гипотезы.** \n",
    "\n",
    "- Нулевая гипотеза: В конверсии по «очищенных» данным между группами различий нет. \n",
    "- Альтернативная гипотеза: Имеются статистически значимые различия в конверсии по «очищенных» данным между группами."
   ]
  },
  {
   "cell_type": "code",
   "execution_count": 35,
   "metadata": {},
   "outputs": [
    {
     "name": "stdout",
     "output_type": "stream",
     "text": [
      "p-value: 0.013\n",
      "Относительная разница в сравниваемых величинах: 0.173\n"
     ]
    }
   ],
   "source": [
    "#смотрим как действия аномальных пользователей повлияли на результаты теста,\n",
    "#считаем статистическую значимость различий в конверсии \n",
    "#между группами теста по очищенным данным,\n",
    "#подготавливаем выборку количества заказов по пользователям по группам теста\n",
    "sampleAFiltered = pd.concat([ordersByUsersA[np.logical_not(ordersByUsersA['userId'].isin(abnormalUsers))]['orders'],pd.Series(0, index=np.arange(data['visitorsPerDateA'].sum() - len(ordersByUsersA['orders'])),name='orders')],axis=0)\n",
    "sampleBFiltered = pd.concat([ordersByUsersB[np.logical_not(ordersByUsersB['userId'].isin(abnormalUsers))]['orders'],pd.Series(0, index=np.arange(data['visitorsPerDateB'].sum() - len(ordersByUsersB['orders'])),name='orders')],axis=0)\n",
    "\n",
    "print(\"p-value:\", \"{0:.3f}\".format(stats.mannwhitneyu(sampleAFiltered, sampleBFiltered)[1]))\n",
    "print(\"Относительная разница в сравниваемых величинах:\", \"{0:.3f}\".format(sampleBFiltered.mean()/sampleAFiltered.mean()-1))"
   ]
  },
  {
   "attachments": {},
   "cell_type": "markdown",
   "metadata": {},
   "source": [
    "**Вывод:**\n",
    "- Результаты практически не изменились. p-value остался значительно меньше 0.05. Значит, нулевую гипотезу о том, что статистически значимых различий в конверсии между группами нет - отвергаем.\n",
    "- По очищенным данным есть статистически значимые различия в конверсии групп A и B. Относительный прирост конверсии группы B приблизительно равен 17%."
   ]
  },
  {
   "attachments": {},
   "cell_type": "markdown",
   "metadata": {},
   "source": [
    "### Считаем статистическую значимость различий в среднем чеке заказа между группами по «очищенным» данным."
   ]
  },
  {
   "attachments": {},
   "cell_type": "markdown",
   "metadata": {},
   "source": [
    "**Формулируем гипотезы.** Нулевая гипотеза: В \"очищенных\" данных статистически значимых различий в среднем чеке между группами нет. Альтернативная гипотеза: Имеются статистически значимые различия в среднем чеке между группами в \"очищенных\" данных."
   ]
  },
  {
   "cell_type": "code",
   "execution_count": 36,
   "metadata": {},
   "outputs": [
    {
     "name": "stdout",
     "output_type": "stream",
     "text": [
      "p-value: 0.738\n",
      "Относительная разница в сравниваемых величинах: -0.020\n"
     ]
    }
   ],
   "source": [
    "print(\"p-value:\", \"{0:.3f}\".format(stats.mannwhitneyu(\n",
    "    orders[np.logical_and(\n",
    "        orders['group']=='A',\n",
    "        np.logical_not(orders['visitorId'].isin(abnormalUsers)))]['revenue'],\n",
    "    orders[np.logical_and(\n",
    "        orders['group']=='B',\n",
    "        np.logical_not(orders['visitorId'].isin(abnormalUsers)))]['revenue'])[1]))\n",
    "\n",
    "print(\"Относительная разница в сравниваемых величинах:\", \"{0:.3f}\".format(\n",
    "    orders[np.logical_and(orders['group']=='B',np.logical_not(orders['visitorId'].isin(abnormalUsers)))]['revenue'].mean()/\n",
    "    orders[np.logical_and(\n",
    "        orders['group']=='A',\n",
    "        np.logical_not(orders['visitorId'].isin(abnormalUsers)))]['revenue'].mean() - 1))"
   ]
  },
  {
   "attachments": {},
   "cell_type": "markdown",
   "metadata": {},
   "source": [
    "**Вывод:**\n",
    "- По очищенным данным статистически значимых различий среднего чека между группами нет. P-value практически не изменился.\n",
    "- Появилась обратная разница между группами. Очищенные данные показывают, что средний чек группы B меньше, чем в группе A. На сырых данных чек группы B был на 26% больше, поэтому мы можем сделать вывод, что аномалии сильно искажали реальную картину."
   ]
  },
  {
   "attachments": {},
   "cell_type": "markdown",
   "metadata": {},
   "source": [
    "## Общий вывод по результатам A/B теста."
   ]
  },
  {
   "attachments": {},
   "cell_type": "markdown",
   "metadata": {},
   "source": [
    "- Есть статистически значимое различие по конверсии между группами как по сырым данным, так и после фильтрации аномалий.\n",
    "- Нет статистически значимого различия по среднему чеку между группами ни по «сырым», ни по данным после фильтрации аномалий.\n",
    "- График различия конверсии между группами сообщает, что результаты группы B лучше группы A и имеют тенденцию к росту.\n",
    "- На графике среднего чека мы наблюдаем колебания, таким образом выводы по данному графику затруднительны."
   ]
  },
  {
   "attachments": {},
   "cell_type": "markdown",
   "metadata": {},
   "source": [
    "**На основании проведённых исследований, можно остановить тест и зафиксировать победу группы B. Так как при анализе различий в конверсии между группами по «очищенным» данным было выявлено, что относительный прирост конверсии группы B составляет примерно 17%. При этом статистически значимых различий среднего чека между группами не обнаружено.**\n",
    "\n"
   ]
  }
 ],
 "metadata": {
  "ExecuteTimeLog": [
   {
    "duration": 513,
    "start_time": "2022-10-10T15:53:53.398Z"
   },
   {
    "duration": 33,
    "start_time": "2022-10-10T15:54:17.146Z"
   },
   {
    "duration": 30,
    "start_time": "2022-10-10T15:56:00.712Z"
   },
   {
    "duration": 36,
    "start_time": "2022-10-10T15:56:13.480Z"
   },
   {
    "duration": 854,
    "start_time": "2022-10-10T16:05:27.201Z"
   },
   {
    "duration": 103,
    "start_time": "2022-10-10T16:16:04.115Z"
   },
   {
    "duration": 1215,
    "start_time": "2022-10-10T16:16:52.240Z"
   },
   {
    "duration": 808,
    "start_time": "2022-10-10T16:17:48.455Z"
   },
   {
    "duration": 8,
    "start_time": "2022-10-10T16:19:54.742Z"
   },
   {
    "duration": 22,
    "start_time": "2022-10-10T16:19:59.701Z"
   },
   {
    "duration": 10,
    "start_time": "2022-10-10T16:20:51.251Z"
   },
   {
    "duration": 9,
    "start_time": "2022-10-10T16:21:09.757Z"
   },
   {
    "duration": 9,
    "start_time": "2022-10-10T16:21:10.421Z"
   },
   {
    "duration": 11,
    "start_time": "2022-10-10T16:21:44.548Z"
   },
   {
    "duration": 10,
    "start_time": "2022-10-10T16:21:46.847Z"
   },
   {
    "duration": 18,
    "start_time": "2022-10-10T16:24:16.993Z"
   },
   {
    "duration": 11,
    "start_time": "2022-10-10T16:25:22.824Z"
   },
   {
    "duration": 102,
    "start_time": "2022-10-10T16:54:03.354Z"
   },
   {
    "duration": 69,
    "start_time": "2022-10-10T16:54:11.163Z"
   },
   {
    "duration": 56,
    "start_time": "2022-10-10T16:54:18.367Z"
   },
   {
    "duration": 12,
    "start_time": "2022-10-10T16:54:53.222Z"
   },
   {
    "duration": 10,
    "start_time": "2022-10-10T16:54:55.536Z"
   },
   {
    "duration": 11,
    "start_time": "2022-10-10T16:55:00.192Z"
   },
   {
    "duration": 55,
    "start_time": "2022-10-10T16:55:04.080Z"
   },
   {
    "duration": 54,
    "start_time": "2022-10-10T16:55:08.664Z"
   },
   {
    "duration": 53,
    "start_time": "2022-10-10T16:55:32.520Z"
   },
   {
    "duration": 110,
    "start_time": "2022-10-10T16:56:29.265Z"
   },
   {
    "duration": 70,
    "start_time": "2022-10-10T16:56:46.984Z"
   },
   {
    "duration": 71,
    "start_time": "2022-10-10T16:57:00.990Z"
   },
   {
    "duration": 70,
    "start_time": "2022-10-10T16:57:20.223Z"
   },
   {
    "duration": 32,
    "start_time": "2022-10-10T16:58:10.277Z"
   },
   {
    "duration": 8,
    "start_time": "2022-10-10T16:58:10.485Z"
   },
   {
    "duration": 11,
    "start_time": "2022-10-10T16:58:10.677Z"
   },
   {
    "duration": 11,
    "start_time": "2022-10-10T16:58:11.609Z"
   },
   {
    "duration": 32,
    "start_time": "2022-10-10T16:58:30.493Z"
   },
   {
    "duration": 8,
    "start_time": "2022-10-10T16:58:30.728Z"
   },
   {
    "duration": 10,
    "start_time": "2022-10-10T16:58:30.901Z"
   },
   {
    "duration": 10,
    "start_time": "2022-10-10T16:58:31.669Z"
   },
   {
    "duration": 71,
    "start_time": "2022-10-10T16:58:32.365Z"
   },
   {
    "duration": 72,
    "start_time": "2022-10-10T17:38:25.221Z"
   },
   {
    "duration": 11,
    "start_time": "2022-10-10T17:38:26.100Z"
   },
   {
    "duration": 37,
    "start_time": "2022-10-10T17:42:13.084Z"
   },
   {
    "duration": 198,
    "start_time": "2022-10-10T17:42:13.466Z"
   },
   {
    "duration": 0,
    "start_time": "2022-10-10T17:42:13.666Z"
   },
   {
    "duration": 10,
    "start_time": "2022-10-10T17:42:21.497Z"
   },
   {
    "duration": 14,
    "start_time": "2022-10-10T17:42:22.417Z"
   },
   {
    "duration": 11,
    "start_time": "2022-10-10T17:42:24.012Z"
   },
   {
    "duration": 72,
    "start_time": "2022-10-10T17:42:26.217Z"
   },
   {
    "duration": 27,
    "start_time": "2022-10-10T17:42:27.617Z"
   },
   {
    "duration": 31,
    "start_time": "2022-10-10T17:42:54.435Z"
   },
   {
    "duration": 25,
    "start_time": "2022-10-10T17:44:00.540Z"
   },
   {
    "duration": 24,
    "start_time": "2022-10-10T17:44:42.145Z"
   },
   {
    "duration": 22,
    "start_time": "2022-10-10T17:45:27.736Z"
   },
   {
    "duration": 23,
    "start_time": "2022-10-10T17:46:09.152Z"
   },
   {
    "duration": 253,
    "start_time": "2022-10-10T17:50:01.110Z"
   },
   {
    "duration": 252,
    "start_time": "2022-10-10T17:51:00.122Z"
   },
   {
    "duration": 306,
    "start_time": "2022-10-10T17:52:34.647Z"
   },
   {
    "duration": 254,
    "start_time": "2022-10-10T17:53:11.722Z"
   },
   {
    "duration": 10,
    "start_time": "2022-10-10T17:53:58.632Z"
   },
   {
    "duration": 12,
    "start_time": "2022-10-10T17:55:43.231Z"
   },
   {
    "duration": 243,
    "start_time": "2022-10-10T17:56:21.824Z"
   },
   {
    "duration": 254,
    "start_time": "2022-10-10T17:58:21.027Z"
   },
   {
    "duration": 275,
    "start_time": "2022-10-10T17:58:34.490Z"
   },
   {
    "duration": 218,
    "start_time": "2022-10-10T18:00:36.420Z"
   },
   {
    "duration": 72,
    "start_time": "2022-10-10T18:08:55.725Z"
   },
   {
    "duration": 255,
    "start_time": "2022-10-10T18:08:56.024Z"
   },
   {
    "duration": 215,
    "start_time": "2022-10-10T18:08:56.281Z"
   },
   {
    "duration": 221,
    "start_time": "2022-10-10T18:10:32.721Z"
   },
   {
    "duration": 195,
    "start_time": "2022-10-10T18:11:10.092Z"
   },
   {
    "duration": 170,
    "start_time": "2022-10-10T18:11:28.425Z"
   },
   {
    "duration": 191,
    "start_time": "2022-10-10T18:11:34.561Z"
   },
   {
    "duration": 176,
    "start_time": "2022-10-10T18:11:40.449Z"
   },
   {
    "duration": 189,
    "start_time": "2022-10-10T18:11:54.010Z"
   },
   {
    "duration": 199,
    "start_time": "2022-10-10T18:12:42.849Z"
   },
   {
    "duration": 170,
    "start_time": "2022-10-10T18:12:50.849Z"
   },
   {
    "duration": 319,
    "start_time": "2022-10-10T18:25:36.038Z"
   },
   {
    "duration": 297,
    "start_time": "2022-10-10T18:25:41.390Z"
   },
   {
    "duration": 321,
    "start_time": "2022-10-10T18:25:58.712Z"
   },
   {
    "duration": 309,
    "start_time": "2022-10-10T18:26:09.558Z"
   },
   {
    "duration": 273,
    "start_time": "2022-10-10T18:26:16.164Z"
   },
   {
    "duration": 317,
    "start_time": "2022-10-10T18:26:20.285Z"
   },
   {
    "duration": 279,
    "start_time": "2022-10-10T18:26:39.119Z"
   },
   {
    "duration": 296,
    "start_time": "2022-10-10T18:26:47.725Z"
   },
   {
    "duration": 274,
    "start_time": "2022-10-10T18:27:26.741Z"
   },
   {
    "duration": 245,
    "start_time": "2022-10-10T18:27:37.741Z"
   },
   {
    "duration": 63,
    "start_time": "2022-10-10T19:43:38.738Z"
   },
   {
    "duration": 1615,
    "start_time": "2022-10-10T19:44:21.014Z"
   },
   {
    "duration": 9,
    "start_time": "2022-10-10T19:44:22.632Z"
   },
   {
    "duration": 26,
    "start_time": "2022-10-10T19:44:22.643Z"
   },
   {
    "duration": 15,
    "start_time": "2022-10-10T19:44:22.672Z"
   },
   {
    "duration": 164,
    "start_time": "2022-10-10T19:44:22.689Z"
   },
   {
    "duration": 300,
    "start_time": "2022-10-10T19:44:22.855Z"
   },
   {
    "duration": 381,
    "start_time": "2022-10-10T19:44:23.157Z"
   },
   {
    "duration": 219,
    "start_time": "2022-10-10T19:44:23.541Z"
   },
   {
    "duration": 354,
    "start_time": "2022-10-10T19:44:23.824Z"
   },
   {
    "duration": 289,
    "start_time": "2022-10-10T19:44:24.500Z"
   },
   {
    "duration": 308,
    "start_time": "2022-10-10T19:44:45.254Z"
   },
   {
    "duration": 392,
    "start_time": "2022-10-10T19:52:40.606Z"
   },
   {
    "duration": 71,
    "start_time": "2022-10-10T20:03:59.479Z"
   },
   {
    "duration": 16,
    "start_time": "2022-10-10T20:06:59.180Z"
   },
   {
    "duration": 15,
    "start_time": "2022-10-10T20:08:16.234Z"
   },
   {
    "duration": 123,
    "start_time": "2022-10-10T20:09:30.833Z"
   },
   {
    "duration": 138,
    "start_time": "2022-10-10T20:10:02.842Z"
   },
   {
    "duration": 113,
    "start_time": "2022-10-10T20:11:24.856Z"
   },
   {
    "duration": 116,
    "start_time": "2022-10-10T20:15:58.811Z"
   },
   {
    "duration": 7,
    "start_time": "2022-10-10T20:21:08.537Z"
   },
   {
    "duration": 5,
    "start_time": "2022-10-10T20:21:36.407Z"
   },
   {
    "duration": 232,
    "start_time": "2022-10-10T20:25:52.988Z"
   },
   {
    "duration": 141,
    "start_time": "2022-10-10T20:26:27.605Z"
   },
   {
    "duration": 4,
    "start_time": "2022-10-10T20:35:14.804Z"
   },
   {
    "duration": 104,
    "start_time": "2022-10-10T20:40:14.824Z"
   },
   {
    "duration": 97,
    "start_time": "2022-10-10T20:42:05.593Z"
   },
   {
    "duration": 125,
    "start_time": "2022-10-10T20:42:30.974Z"
   },
   {
    "duration": 138,
    "start_time": "2022-10-10T20:43:21.878Z"
   },
   {
    "duration": 224,
    "start_time": "2022-10-10T20:43:43.757Z"
   },
   {
    "duration": 19,
    "start_time": "2022-10-10T20:46:50.658Z"
   },
   {
    "duration": 19,
    "start_time": "2022-10-10T20:48:00.604Z"
   },
   {
    "duration": 163,
    "start_time": "2022-10-10T20:48:14.794Z"
   },
   {
    "duration": 7,
    "start_time": "2022-10-10T20:51:49.047Z"
   },
   {
    "duration": 16,
    "start_time": "2022-10-10T20:52:48.710Z"
   },
   {
    "duration": 176,
    "start_time": "2022-10-10T20:53:13.999Z"
   },
   {
    "duration": 11,
    "start_time": "2022-10-10T21:03:22.357Z"
   },
   {
    "duration": 1333,
    "start_time": "2022-10-10T21:13:40.830Z"
   },
   {
    "duration": 9,
    "start_time": "2022-10-10T21:14:08.301Z"
   },
   {
    "duration": 10,
    "start_time": "2022-10-10T21:15:53.331Z"
   },
   {
    "duration": 9,
    "start_time": "2022-10-10T21:16:21.597Z"
   },
   {
    "duration": 8,
    "start_time": "2022-10-10T21:16:27.178Z"
   },
   {
    "duration": 28,
    "start_time": "2022-10-10T21:24:33.702Z"
   },
   {
    "duration": 10,
    "start_time": "2022-10-10T21:32:20.077Z"
   },
   {
    "duration": 28,
    "start_time": "2022-10-10T21:32:20.629Z"
   },
   {
    "duration": 1404,
    "start_time": "2022-10-10T21:34:40.690Z"
   },
   {
    "duration": 13,
    "start_time": "2022-10-10T21:35:08.482Z"
   },
   {
    "duration": 32,
    "start_time": "2022-10-10T21:59:42.392Z"
   },
   {
    "duration": 8,
    "start_time": "2022-10-10T21:59:42.734Z"
   },
   {
    "duration": 12,
    "start_time": "2022-10-10T21:59:42.894Z"
   },
   {
    "duration": 11,
    "start_time": "2022-10-10T21:59:43.221Z"
   },
   {
    "duration": 72,
    "start_time": "2022-10-10T21:59:44.517Z"
   },
   {
    "duration": 258,
    "start_time": "2022-10-10T21:59:44.710Z"
   },
   {
    "duration": 219,
    "start_time": "2022-10-10T21:59:44.970Z"
   },
   {
    "duration": 196,
    "start_time": "2022-10-10T21:59:45.381Z"
   },
   {
    "duration": 309,
    "start_time": "2022-10-10T21:59:45.958Z"
   },
   {
    "duration": 290,
    "start_time": "2022-10-10T21:59:46.774Z"
   },
   {
    "duration": 399,
    "start_time": "2022-10-10T21:59:47.324Z"
   },
   {
    "duration": 126,
    "start_time": "2022-10-10T21:59:47.845Z"
   },
   {
    "duration": 109,
    "start_time": "2022-10-10T21:59:48.024Z"
   },
   {
    "duration": 106,
    "start_time": "2022-10-10T21:59:48.364Z"
   },
   {
    "duration": 4,
    "start_time": "2022-10-10T21:59:49.076Z"
   },
   {
    "duration": 126,
    "start_time": "2022-10-10T21:59:49.596Z"
   },
   {
    "duration": 135,
    "start_time": "2022-10-10T21:59:49.783Z"
   },
   {
    "duration": 5,
    "start_time": "2022-10-10T21:59:50.468Z"
   },
   {
    "duration": 280,
    "start_time": "2022-10-10T21:59:51.254Z"
   },
   {
    "duration": 140,
    "start_time": "2022-10-10T21:59:51.535Z"
   },
   {
    "duration": 6,
    "start_time": "2022-10-10T21:59:51.727Z"
   },
   {
    "duration": 160,
    "start_time": "2022-10-10T21:59:51.916Z"
   },
   {
    "duration": 12,
    "start_time": "2022-10-10T21:59:52.876Z"
   },
   {
    "duration": 11,
    "start_time": "2022-10-10T21:59:53.860Z"
   },
   {
    "duration": 29,
    "start_time": "2022-10-10T21:59:54.109Z"
   },
   {
    "duration": 13,
    "start_time": "2022-10-10T21:59:54.860Z"
   },
   {
    "duration": 1293,
    "start_time": "2022-10-12T03:46:31.833Z"
   },
   {
    "duration": 7,
    "start_time": "2022-10-12T03:46:33.128Z"
   },
   {
    "duration": 14,
    "start_time": "2022-10-12T03:46:33.136Z"
   },
   {
    "duration": 11,
    "start_time": "2022-10-12T03:46:33.153Z"
   },
   {
    "duration": 144,
    "start_time": "2022-10-12T03:46:33.166Z"
   },
   {
    "duration": 247,
    "start_time": "2022-10-12T03:46:33.312Z"
   },
   {
    "duration": 282,
    "start_time": "2022-10-12T03:46:33.561Z"
   },
   {
    "duration": 192,
    "start_time": "2022-10-12T03:46:33.844Z"
   },
   {
    "duration": 317,
    "start_time": "2022-10-12T03:46:34.038Z"
   },
   {
    "duration": 275,
    "start_time": "2022-10-12T03:46:34.358Z"
   },
   {
    "duration": 348,
    "start_time": "2022-10-12T03:46:34.635Z"
   },
   {
    "duration": 150,
    "start_time": "2022-10-12T03:46:34.985Z"
   },
   {
    "duration": 112,
    "start_time": "2022-10-12T03:46:35.136Z"
   },
   {
    "duration": 108,
    "start_time": "2022-10-12T03:46:35.249Z"
   },
   {
    "duration": 5,
    "start_time": "2022-10-12T03:46:35.358Z"
   },
   {
    "duration": 131,
    "start_time": "2022-10-12T03:46:35.364Z"
   },
   {
    "duration": 182,
    "start_time": "2022-10-12T03:46:35.497Z"
   },
   {
    "duration": 3,
    "start_time": "2022-10-12T03:46:35.681Z"
   },
   {
    "duration": 194,
    "start_time": "2022-10-12T03:46:35.686Z"
   },
   {
    "duration": 137,
    "start_time": "2022-10-12T03:46:35.882Z"
   },
   {
    "duration": 5,
    "start_time": "2022-10-12T03:46:36.020Z"
   },
   {
    "duration": 137,
    "start_time": "2022-10-12T03:46:36.027Z"
   },
   {
    "duration": 23,
    "start_time": "2022-10-12T03:46:36.166Z"
   },
   {
    "duration": 24,
    "start_time": "2022-10-12T03:46:36.190Z"
   },
   {
    "duration": 11,
    "start_time": "2022-10-12T03:46:36.216Z"
   },
   {
    "duration": 32,
    "start_time": "2022-10-12T03:46:36.229Z"
   },
   {
    "duration": 13,
    "start_time": "2022-10-12T03:46:36.262Z"
   },
   {
    "duration": 1206,
    "start_time": "2022-10-13T15:05:05.512Z"
   },
   {
    "duration": 43,
    "start_time": "2022-10-13T15:05:07.125Z"
   },
   {
    "duration": 1095,
    "start_time": "2022-10-13T15:06:27.519Z"
   },
   {
    "duration": 32,
    "start_time": "2022-10-13T15:06:28.617Z"
   },
   {
    "duration": 8,
    "start_time": "2022-10-13T15:06:28.651Z"
   },
   {
    "duration": 18,
    "start_time": "2022-10-13T15:06:28.661Z"
   },
   {
    "duration": 19,
    "start_time": "2022-10-13T15:06:28.681Z"
   },
   {
    "duration": 99,
    "start_time": "2022-10-13T15:06:28.701Z"
   },
   {
    "duration": 253,
    "start_time": "2022-10-13T15:06:28.802Z"
   },
   {
    "duration": 285,
    "start_time": "2022-10-13T15:06:29.057Z"
   },
   {
    "duration": 200,
    "start_time": "2022-10-13T15:06:29.344Z"
   },
   {
    "duration": 276,
    "start_time": "2022-10-13T15:06:29.548Z"
   },
   {
    "duration": 286,
    "start_time": "2022-10-13T15:06:29.826Z"
   },
   {
    "duration": 378,
    "start_time": "2022-10-13T15:06:30.114Z"
   },
   {
    "duration": 123,
    "start_time": "2022-10-13T15:06:30.494Z"
   },
   {
    "duration": 111,
    "start_time": "2022-10-13T15:06:30.619Z"
   },
   {
    "duration": 126,
    "start_time": "2022-10-13T15:06:30.731Z"
   },
   {
    "duration": 4,
    "start_time": "2022-10-13T15:06:30.859Z"
   },
   {
    "duration": 156,
    "start_time": "2022-10-13T15:06:30.864Z"
   },
   {
    "duration": 199,
    "start_time": "2022-10-13T15:06:31.022Z"
   },
   {
    "duration": 3,
    "start_time": "2022-10-13T15:06:31.223Z"
   },
   {
    "duration": 219,
    "start_time": "2022-10-13T15:06:31.228Z"
   },
   {
    "duration": 127,
    "start_time": "2022-10-13T15:06:31.448Z"
   },
   {
    "duration": 5,
    "start_time": "2022-10-13T15:06:31.577Z"
   },
   {
    "duration": 138,
    "start_time": "2022-10-13T15:06:31.583Z"
   },
   {
    "duration": 35,
    "start_time": "2022-10-13T15:06:31.723Z"
   },
   {
    "duration": 8,
    "start_time": "2022-10-13T15:06:31.760Z"
   },
   {
    "duration": 12,
    "start_time": "2022-10-13T15:06:31.770Z"
   },
   {
    "duration": 33,
    "start_time": "2022-10-13T15:06:31.784Z"
   },
   {
    "duration": 26,
    "start_time": "2022-10-13T15:06:31.820Z"
   },
   {
    "duration": 9,
    "start_time": "2022-10-13T15:07:41.715Z"
   },
   {
    "duration": 12,
    "start_time": "2022-10-13T15:13:47.382Z"
   },
   {
    "duration": 11,
    "start_time": "2022-10-13T15:13:59.916Z"
   },
   {
    "duration": 10,
    "start_time": "2022-10-13T15:15:19.364Z"
   },
   {
    "duration": 10,
    "start_time": "2022-10-13T15:15:22.396Z"
   },
   {
    "duration": 12,
    "start_time": "2022-10-13T15:15:30.615Z"
   },
   {
    "duration": 11,
    "start_time": "2022-10-13T15:15:35.441Z"
   },
   {
    "duration": 10,
    "start_time": "2022-10-13T15:15:37.898Z"
   },
   {
    "duration": 11,
    "start_time": "2022-10-13T15:15:48.238Z"
   },
   {
    "duration": 12,
    "start_time": "2022-10-13T15:15:49.954Z"
   },
   {
    "duration": 12,
    "start_time": "2022-10-13T15:15:51.523Z"
   },
   {
    "duration": 4,
    "start_time": "2022-10-13T15:34:31.651Z"
   },
   {
    "duration": 49,
    "start_time": "2022-10-13T15:35:00.164Z"
   },
   {
    "duration": 15,
    "start_time": "2022-10-13T15:35:51.364Z"
   },
   {
    "duration": 17,
    "start_time": "2022-10-13T16:09:20.262Z"
   },
   {
    "duration": 8,
    "start_time": "2022-10-13T16:20:16.774Z"
   },
   {
    "duration": 7,
    "start_time": "2022-10-13T16:24:18.603Z"
   },
   {
    "duration": 7,
    "start_time": "2022-10-13T16:24:40.195Z"
   },
   {
    "duration": 5,
    "start_time": "2022-10-13T16:24:59.892Z"
   },
   {
    "duration": 6,
    "start_time": "2022-10-13T16:25:50.547Z"
   },
   {
    "duration": 6,
    "start_time": "2022-10-13T16:27:52.463Z"
   },
   {
    "duration": 324,
    "start_time": "2022-10-13T17:03:41.278Z"
   },
   {
    "duration": 164,
    "start_time": "2022-10-13T17:04:54.931Z"
   },
   {
    "duration": 148,
    "start_time": "2022-10-13T17:05:12.563Z"
   },
   {
    "duration": 154,
    "start_time": "2022-10-13T17:05:53.267Z"
   },
   {
    "duration": 162,
    "start_time": "2022-10-13T17:06:42.148Z"
   },
   {
    "duration": 179,
    "start_time": "2022-10-13T17:08:51.360Z"
   },
   {
    "duration": 171,
    "start_time": "2022-10-13T17:09:22.304Z"
   },
   {
    "duration": 291,
    "start_time": "2022-10-13T17:11:01.832Z"
   },
   {
    "duration": 250,
    "start_time": "2022-10-13T17:12:55.247Z"
   },
   {
    "duration": 362,
    "start_time": "2022-10-13T17:16:19.941Z"
   },
   {
    "duration": 251,
    "start_time": "2022-10-13T17:16:33.459Z"
   },
   {
    "duration": 249,
    "start_time": "2022-10-13T17:16:42.331Z"
   },
   {
    "duration": 266,
    "start_time": "2022-10-13T17:16:58.688Z"
   },
   {
    "duration": 246,
    "start_time": "2022-10-13T17:17:29.244Z"
   },
   {
    "duration": 248,
    "start_time": "2022-10-13T17:17:42.977Z"
   },
   {
    "duration": 266,
    "start_time": "2022-10-13T17:18:18.241Z"
   },
   {
    "duration": 251,
    "start_time": "2022-10-13T17:18:34.395Z"
   },
   {
    "duration": 269,
    "start_time": "2022-10-13T17:20:06.643Z"
   },
   {
    "duration": 354,
    "start_time": "2022-10-13T17:20:29.088Z"
   },
   {
    "duration": 302,
    "start_time": "2022-10-13T17:20:56.136Z"
   },
   {
    "duration": 365,
    "start_time": "2022-10-13T17:21:11.151Z"
   },
   {
    "duration": 259,
    "start_time": "2022-10-13T17:21:19.901Z"
   },
   {
    "duration": 256,
    "start_time": "2022-10-13T17:21:43.951Z"
   },
   {
    "duration": 376,
    "start_time": "2022-10-13T17:23:04.100Z"
   },
   {
    "duration": 359,
    "start_time": "2022-10-13T17:23:17.561Z"
   },
   {
    "duration": 28,
    "start_time": "2022-10-13T18:09:12.575Z"
   },
   {
    "duration": 13,
    "start_time": "2022-10-13T18:09:14.687Z"
   },
   {
    "duration": 22,
    "start_time": "2022-10-13T18:26:33.738Z"
   },
   {
    "duration": 22,
    "start_time": "2022-10-13T18:27:26.250Z"
   },
   {
    "duration": 10,
    "start_time": "2022-10-13T18:27:58.422Z"
   },
   {
    "duration": 10,
    "start_time": "2022-10-13T18:28:12.040Z"
   },
   {
    "duration": 29,
    "start_time": "2022-10-13T18:28:25.515Z"
   },
   {
    "duration": 13,
    "start_time": "2022-10-13T18:29:00.768Z"
   },
   {
    "duration": 27,
    "start_time": "2022-10-13T18:29:27.004Z"
   },
   {
    "duration": 14,
    "start_time": "2022-10-13T18:29:35.448Z"
   },
   {
    "duration": 1011,
    "start_time": "2022-10-13T18:40:45.980Z"
   },
   {
    "duration": 23,
    "start_time": "2022-10-13T18:40:46.993Z"
   },
   {
    "duration": 8,
    "start_time": "2022-10-13T18:40:47.018Z"
   },
   {
    "duration": 20,
    "start_time": "2022-10-13T18:40:47.028Z"
   },
   {
    "duration": 10,
    "start_time": "2022-10-13T18:40:47.049Z"
   },
   {
    "duration": 48,
    "start_time": "2022-10-13T18:40:47.060Z"
   },
   {
    "duration": 43,
    "start_time": "2022-10-13T18:40:47.109Z"
   },
   {
    "duration": 16,
    "start_time": "2022-10-13T18:40:47.153Z"
   },
   {
    "duration": 9,
    "start_time": "2022-10-13T18:40:47.170Z"
   },
   {
    "duration": 7,
    "start_time": "2022-10-13T18:40:47.182Z"
   },
   {
    "duration": 283,
    "start_time": "2022-10-13T18:40:47.191Z"
   },
   {
    "duration": 254,
    "start_time": "2022-10-13T18:40:47.476Z"
   },
   {
    "duration": 197,
    "start_time": "2022-10-13T18:40:47.732Z"
   },
   {
    "duration": 311,
    "start_time": "2022-10-13T18:40:47.930Z"
   },
   {
    "duration": 299,
    "start_time": "2022-10-13T18:40:48.243Z"
   },
   {
    "duration": 389,
    "start_time": "2022-10-13T18:40:48.544Z"
   },
   {
    "duration": 119,
    "start_time": "2022-10-13T18:40:48.939Z"
   },
   {
    "duration": 113,
    "start_time": "2022-10-13T18:40:49.060Z"
   },
   {
    "duration": 113,
    "start_time": "2022-10-13T18:40:49.175Z"
   },
   {
    "duration": 5,
    "start_time": "2022-10-13T18:40:49.289Z"
   },
   {
    "duration": 209,
    "start_time": "2022-10-13T18:40:49.295Z"
   },
   {
    "duration": 134,
    "start_time": "2022-10-13T18:40:49.506Z"
   },
   {
    "duration": 3,
    "start_time": "2022-10-13T18:40:49.642Z"
   },
   {
    "duration": 210,
    "start_time": "2022-10-13T18:40:49.647Z"
   },
   {
    "duration": 135,
    "start_time": "2022-10-13T18:40:49.858Z"
   },
   {
    "duration": 6,
    "start_time": "2022-10-13T18:40:49.995Z"
   },
   {
    "duration": 137,
    "start_time": "2022-10-13T18:40:50.002Z"
   },
   {
    "duration": 23,
    "start_time": "2022-10-13T18:40:50.141Z"
   },
   {
    "duration": 9,
    "start_time": "2022-10-13T18:40:50.166Z"
   },
   {
    "duration": 10,
    "start_time": "2022-10-13T18:40:50.177Z"
   },
   {
    "duration": 27,
    "start_time": "2022-10-13T18:40:50.189Z"
   },
   {
    "duration": 14,
    "start_time": "2022-10-13T18:40:50.239Z"
   },
   {
    "duration": 48,
    "start_time": "2022-10-15T13:10:45.369Z"
   },
   {
    "duration": 1399,
    "start_time": "2022-10-15T13:11:14.301Z"
   },
   {
    "duration": 46,
    "start_time": "2022-10-15T13:11:15.702Z"
   },
   {
    "duration": 8,
    "start_time": "2022-10-15T13:11:15.750Z"
   },
   {
    "duration": 22,
    "start_time": "2022-10-15T13:11:15.760Z"
   },
   {
    "duration": 15,
    "start_time": "2022-10-15T13:11:15.784Z"
   },
   {
    "duration": 69,
    "start_time": "2022-10-15T13:11:15.801Z"
   },
   {
    "duration": 85,
    "start_time": "2022-10-15T13:11:15.871Z"
   },
   {
    "duration": 18,
    "start_time": "2022-10-15T13:11:15.957Z"
   },
   {
    "duration": 24,
    "start_time": "2022-10-15T13:11:15.976Z"
   },
   {
    "duration": 6,
    "start_time": "2022-10-15T13:11:16.003Z"
   },
   {
    "duration": 8,
    "start_time": "2022-10-15T13:11:16.011Z"
   },
   {
    "duration": 343,
    "start_time": "2022-10-15T13:11:16.022Z"
   },
   {
    "duration": 292,
    "start_time": "2022-10-15T13:11:16.366Z"
   },
   {
    "duration": 224,
    "start_time": "2022-10-15T13:11:16.660Z"
   },
   {
    "duration": 372,
    "start_time": "2022-10-15T13:11:16.885Z"
   },
   {
    "duration": 362,
    "start_time": "2022-10-15T13:11:17.259Z"
   },
   {
    "duration": 0,
    "start_time": "2022-10-15T13:11:17.624Z"
   },
   {
    "duration": 0,
    "start_time": "2022-10-15T13:11:17.626Z"
   },
   {
    "duration": 0,
    "start_time": "2022-10-15T13:11:17.628Z"
   },
   {
    "duration": 0,
    "start_time": "2022-10-15T13:11:17.630Z"
   },
   {
    "duration": 0,
    "start_time": "2022-10-15T13:11:17.631Z"
   },
   {
    "duration": 0,
    "start_time": "2022-10-15T13:11:17.633Z"
   },
   {
    "duration": 0,
    "start_time": "2022-10-15T13:11:17.634Z"
   },
   {
    "duration": 0,
    "start_time": "2022-10-15T13:11:17.636Z"
   },
   {
    "duration": 0,
    "start_time": "2022-10-15T13:11:17.638Z"
   },
   {
    "duration": 0,
    "start_time": "2022-10-15T13:11:17.640Z"
   },
   {
    "duration": 0,
    "start_time": "2022-10-15T13:11:17.642Z"
   },
   {
    "duration": 0,
    "start_time": "2022-10-15T13:11:17.643Z"
   },
   {
    "duration": 0,
    "start_time": "2022-10-15T13:11:17.645Z"
   },
   {
    "duration": 0,
    "start_time": "2022-10-15T13:11:17.646Z"
   },
   {
    "duration": 0,
    "start_time": "2022-10-15T13:11:17.647Z"
   },
   {
    "duration": 0,
    "start_time": "2022-10-15T13:11:17.648Z"
   },
   {
    "duration": 0,
    "start_time": "2022-10-15T13:11:17.649Z"
   },
   {
    "duration": 20,
    "start_time": "2022-10-15T13:11:47.893Z"
   },
   {
    "duration": 12,
    "start_time": "2022-10-15T13:13:21.840Z"
   },
   {
    "duration": 239,
    "start_time": "2022-10-15T13:20:36.399Z"
   },
   {
    "duration": 10,
    "start_time": "2022-10-15T13:23:12.314Z"
   },
   {
    "duration": 202,
    "start_time": "2022-10-15T13:25:21.633Z"
   },
   {
    "duration": 1101,
    "start_time": "2022-10-15T13:25:41.384Z"
   },
   {
    "duration": 25,
    "start_time": "2022-10-15T13:25:42.487Z"
   },
   {
    "duration": 10,
    "start_time": "2022-10-15T13:25:42.513Z"
   },
   {
    "duration": 19,
    "start_time": "2022-10-15T13:25:42.525Z"
   },
   {
    "duration": 12,
    "start_time": "2022-10-15T13:25:42.546Z"
   },
   {
    "duration": 71,
    "start_time": "2022-10-15T13:25:42.560Z"
   },
   {
    "duration": 40,
    "start_time": "2022-10-15T13:25:42.633Z"
   },
   {
    "duration": 20,
    "start_time": "2022-10-15T13:25:42.675Z"
   },
   {
    "duration": 31,
    "start_time": "2022-10-15T13:25:42.697Z"
   },
   {
    "duration": 342,
    "start_time": "2022-10-15T13:25:42.731Z"
   },
   {
    "duration": 0,
    "start_time": "2022-10-15T13:25:43.074Z"
   },
   {
    "duration": 0,
    "start_time": "2022-10-15T13:25:43.076Z"
   },
   {
    "duration": 0,
    "start_time": "2022-10-15T13:25:43.077Z"
   },
   {
    "duration": 0,
    "start_time": "2022-10-15T13:25:43.077Z"
   },
   {
    "duration": 0,
    "start_time": "2022-10-15T13:25:43.079Z"
   },
   {
    "duration": 0,
    "start_time": "2022-10-15T13:25:43.080Z"
   },
   {
    "duration": 0,
    "start_time": "2022-10-15T13:25:43.081Z"
   },
   {
    "duration": 0,
    "start_time": "2022-10-15T13:25:43.082Z"
   },
   {
    "duration": 0,
    "start_time": "2022-10-15T13:25:43.083Z"
   },
   {
    "duration": 0,
    "start_time": "2022-10-15T13:25:43.085Z"
   },
   {
    "duration": 0,
    "start_time": "2022-10-15T13:25:43.086Z"
   },
   {
    "duration": 0,
    "start_time": "2022-10-15T13:25:43.087Z"
   },
   {
    "duration": 0,
    "start_time": "2022-10-15T13:25:43.088Z"
   },
   {
    "duration": 0,
    "start_time": "2022-10-15T13:25:43.088Z"
   },
   {
    "duration": 0,
    "start_time": "2022-10-15T13:25:43.089Z"
   },
   {
    "duration": 0,
    "start_time": "2022-10-15T13:25:43.090Z"
   },
   {
    "duration": 0,
    "start_time": "2022-10-15T13:25:43.092Z"
   },
   {
    "duration": 0,
    "start_time": "2022-10-15T13:25:43.093Z"
   },
   {
    "duration": 0,
    "start_time": "2022-10-15T13:25:43.094Z"
   },
   {
    "duration": 0,
    "start_time": "2022-10-15T13:25:43.095Z"
   },
   {
    "duration": 0,
    "start_time": "2022-10-15T13:25:43.097Z"
   },
   {
    "duration": 0,
    "start_time": "2022-10-15T13:25:43.098Z"
   },
   {
    "duration": 0,
    "start_time": "2022-10-15T13:25:43.099Z"
   },
   {
    "duration": 0,
    "start_time": "2022-10-15T13:25:43.100Z"
   },
   {
    "duration": 0,
    "start_time": "2022-10-15T13:25:43.102Z"
   },
   {
    "duration": 3,
    "start_time": "2022-10-15T13:26:39.260Z"
   },
   {
    "duration": 21,
    "start_time": "2022-10-15T13:26:39.973Z"
   },
   {
    "duration": 8,
    "start_time": "2022-10-15T13:26:42.330Z"
   },
   {
    "duration": 12,
    "start_time": "2022-10-15T13:26:43.139Z"
   },
   {
    "duration": 14,
    "start_time": "2022-10-15T13:26:44.493Z"
   },
   {
    "duration": 15,
    "start_time": "2022-10-15T13:26:45.723Z"
   },
   {
    "duration": 42,
    "start_time": "2022-10-15T13:26:49.411Z"
   },
   {
    "duration": 19,
    "start_time": "2022-10-15T13:26:50.562Z"
   },
   {
    "duration": 20,
    "start_time": "2022-10-15T13:26:51.738Z"
   },
   {
    "duration": 176,
    "start_time": "2022-10-15T13:26:52.699Z"
   },
   {
    "duration": 21,
    "start_time": "2022-10-15T13:28:23.571Z"
   },
   {
    "duration": 23,
    "start_time": "2022-10-15T13:29:06.714Z"
   },
   {
    "duration": 8,
    "start_time": "2022-10-15T13:29:40.073Z"
   },
   {
    "duration": 7,
    "start_time": "2022-10-15T13:29:40.839Z"
   },
   {
    "duration": 10,
    "start_time": "2022-10-15T13:29:41.151Z"
   },
   {
    "duration": 284,
    "start_time": "2022-10-15T13:29:42.287Z"
   },
   {
    "duration": 265,
    "start_time": "2022-10-15T13:29:42.824Z"
   },
   {
    "duration": 203,
    "start_time": "2022-10-15T13:29:45.385Z"
   },
   {
    "duration": 306,
    "start_time": "2022-10-15T13:29:46.231Z"
   },
   {
    "duration": 234,
    "start_time": "2022-10-15T13:29:47.199Z"
   },
   {
    "duration": 279,
    "start_time": "2022-10-15T13:30:18.802Z"
   },
   {
    "duration": 6,
    "start_time": "2022-10-15T14:02:43.502Z"
   },
   {
    "duration": 6,
    "start_time": "2022-10-15T14:03:07.574Z"
   },
   {
    "duration": 7,
    "start_time": "2022-10-15T14:04:34.933Z"
   },
   {
    "duration": 10,
    "start_time": "2022-10-15T14:14:17.245Z"
   },
   {
    "duration": 11,
    "start_time": "2022-10-15T14:14:49.124Z"
   },
   {
    "duration": 19,
    "start_time": "2022-10-15T14:20:45.615Z"
   },
   {
    "duration": 10,
    "start_time": "2022-10-15T14:21:57.407Z"
   },
   {
    "duration": 10,
    "start_time": "2022-10-15T14:22:14.399Z"
   },
   {
    "duration": 12,
    "start_time": "2022-10-15T14:22:48.329Z"
   },
   {
    "duration": 312,
    "start_time": "2022-10-15T14:27:54.449Z"
   },
   {
    "duration": 230,
    "start_time": "2022-10-15T14:27:56.313Z"
   },
   {
    "duration": 217,
    "start_time": "2022-10-15T14:28:10.488Z"
   },
   {
    "duration": 430,
    "start_time": "2022-10-15T14:28:16.001Z"
   },
   {
    "duration": 305,
    "start_time": "2022-10-15T14:28:18.801Z"
   },
   {
    "duration": 391,
    "start_time": "2022-10-15T14:28:33.409Z"
   },
   {
    "duration": 342,
    "start_time": "2022-10-15T14:29:10.466Z"
   },
   {
    "duration": 160,
    "start_time": "2022-10-15T14:29:20.903Z"
   },
   {
    "duration": 131,
    "start_time": "2022-10-15T14:29:21.505Z"
   },
   {
    "duration": 143,
    "start_time": "2022-10-15T14:31:54.991Z"
   },
   {
    "duration": 134,
    "start_time": "2022-10-15T14:32:05.855Z"
   },
   {
    "duration": 151,
    "start_time": "2022-10-15T14:32:17.434Z"
   },
   {
    "duration": 128,
    "start_time": "2022-10-15T14:32:23.036Z"
   },
   {
    "duration": 138,
    "start_time": "2022-10-15T14:39:17.731Z"
   },
   {
    "duration": 4,
    "start_time": "2022-10-15T14:39:42.192Z"
   },
   {
    "duration": 144,
    "start_time": "2022-10-15T14:39:44.515Z"
   },
   {
    "duration": 244,
    "start_time": "2022-10-15T14:39:46.538Z"
   },
   {
    "duration": 188,
    "start_time": "2022-10-15T14:42:02.688Z"
   },
   {
    "duration": 153,
    "start_time": "2022-10-15T14:42:23.624Z"
   },
   {
    "duration": 171,
    "start_time": "2022-10-15T14:44:21.435Z"
   },
   {
    "duration": 180,
    "start_time": "2022-10-15T14:44:29.278Z"
   },
   {
    "duration": 154,
    "start_time": "2022-10-15T14:44:38.150Z"
   },
   {
    "duration": 166,
    "start_time": "2022-10-15T14:44:57.129Z"
   },
   {
    "duration": 187,
    "start_time": "2022-10-15T14:45:04.653Z"
   },
   {
    "duration": 176,
    "start_time": "2022-10-15T14:45:11.926Z"
   },
   {
    "duration": 135,
    "start_time": "2022-10-15T14:45:32.158Z"
   },
   {
    "duration": 155,
    "start_time": "2022-10-15T14:46:10.537Z"
   },
   {
    "duration": 282,
    "start_time": "2022-10-15T14:46:41.796Z"
   },
   {
    "duration": 143,
    "start_time": "2022-10-15T14:46:49.076Z"
   },
   {
    "duration": 152,
    "start_time": "2022-10-15T14:47:16.229Z"
   },
   {
    "duration": 146,
    "start_time": "2022-10-15T14:47:27.549Z"
   },
   {
    "duration": 205,
    "start_time": "2022-10-15T14:50:02.106Z"
   },
   {
    "duration": 4,
    "start_time": "2022-10-15T14:52:04.311Z"
   },
   {
    "duration": 168,
    "start_time": "2022-10-15T14:52:39.359Z"
   },
   {
    "duration": 182,
    "start_time": "2022-10-15T14:53:12.232Z"
   },
   {
    "duration": 191,
    "start_time": "2022-10-15T14:54:59.318Z"
   },
   {
    "duration": 190,
    "start_time": "2022-10-15T14:56:40.365Z"
   },
   {
    "duration": 194,
    "start_time": "2022-10-15T14:57:47.815Z"
   },
   {
    "duration": 186,
    "start_time": "2022-10-15T14:58:13.783Z"
   },
   {
    "duration": 180,
    "start_time": "2022-10-15T14:59:09.307Z"
   },
   {
    "duration": 143,
    "start_time": "2022-10-15T14:59:17.971Z"
   },
   {
    "duration": 272,
    "start_time": "2022-10-15T15:01:47.376Z"
   },
   {
    "duration": 1161,
    "start_time": "2022-10-15T15:14:18.331Z"
   },
   {
    "duration": 25,
    "start_time": "2022-10-15T15:14:19.494Z"
   },
   {
    "duration": 8,
    "start_time": "2022-10-15T15:14:19.521Z"
   },
   {
    "duration": 35,
    "start_time": "2022-10-15T15:14:19.531Z"
   },
   {
    "duration": 14,
    "start_time": "2022-10-15T15:14:19.567Z"
   },
   {
    "duration": 61,
    "start_time": "2022-10-15T15:14:19.583Z"
   },
   {
    "duration": 36,
    "start_time": "2022-10-15T15:14:19.645Z"
   },
   {
    "duration": 19,
    "start_time": "2022-10-15T15:14:19.682Z"
   },
   {
    "duration": 25,
    "start_time": "2022-10-15T15:14:19.702Z"
   },
   {
    "duration": 6,
    "start_time": "2022-10-15T15:14:19.730Z"
   },
   {
    "duration": 9,
    "start_time": "2022-10-15T15:14:19.738Z"
   },
   {
    "duration": 15,
    "start_time": "2022-10-15T15:14:19.748Z"
   },
   {
    "duration": 326,
    "start_time": "2022-10-15T15:14:19.765Z"
   },
   {
    "duration": 275,
    "start_time": "2022-10-15T15:14:20.092Z"
   },
   {
    "duration": 211,
    "start_time": "2022-10-15T15:14:20.369Z"
   },
   {
    "duration": 341,
    "start_time": "2022-10-15T15:14:20.582Z"
   },
   {
    "duration": 343,
    "start_time": "2022-10-15T15:14:20.925Z"
   },
   {
    "duration": 0,
    "start_time": "2022-10-15T15:14:21.271Z"
   },
   {
    "duration": 0,
    "start_time": "2022-10-15T15:14:21.272Z"
   },
   {
    "duration": 0,
    "start_time": "2022-10-15T15:14:21.273Z"
   },
   {
    "duration": 0,
    "start_time": "2022-10-15T15:14:21.274Z"
   },
   {
    "duration": 0,
    "start_time": "2022-10-15T15:14:21.275Z"
   },
   {
    "duration": 0,
    "start_time": "2022-10-15T15:14:21.276Z"
   },
   {
    "duration": 0,
    "start_time": "2022-10-15T15:14:21.277Z"
   },
   {
    "duration": 0,
    "start_time": "2022-10-15T15:14:21.278Z"
   },
   {
    "duration": 0,
    "start_time": "2022-10-15T15:14:21.280Z"
   },
   {
    "duration": 0,
    "start_time": "2022-10-15T15:14:21.281Z"
   },
   {
    "duration": 0,
    "start_time": "2022-10-15T15:14:21.282Z"
   },
   {
    "duration": 0,
    "start_time": "2022-10-15T15:14:21.287Z"
   },
   {
    "duration": 0,
    "start_time": "2022-10-15T15:14:21.288Z"
   },
   {
    "duration": 0,
    "start_time": "2022-10-15T15:14:21.289Z"
   },
   {
    "duration": 0,
    "start_time": "2022-10-15T15:14:21.289Z"
   },
   {
    "duration": 0,
    "start_time": "2022-10-15T15:14:21.290Z"
   },
   {
    "duration": 0,
    "start_time": "2022-10-15T15:14:21.291Z"
   },
   {
    "duration": 0,
    "start_time": "2022-10-15T15:14:21.321Z"
   },
   {
    "duration": 204,
    "start_time": "2022-10-15T15:14:50.575Z"
   },
   {
    "duration": 137,
    "start_time": "2022-10-15T15:14:53.710Z"
   },
   {
    "duration": 145,
    "start_time": "2022-10-15T15:15:00.447Z"
   },
   {
    "duration": 6,
    "start_time": "2022-10-15T15:15:17.431Z"
   },
   {
    "duration": 46,
    "start_time": "2022-10-16T10:07:03.621Z"
   },
   {
    "duration": 1260,
    "start_time": "2022-10-16T10:07:21.244Z"
   },
   {
    "duration": 58,
    "start_time": "2022-10-16T10:07:22.506Z"
   },
   {
    "duration": 8,
    "start_time": "2022-10-16T10:07:22.565Z"
   },
   {
    "duration": 19,
    "start_time": "2022-10-16T10:07:22.575Z"
   },
   {
    "duration": 10,
    "start_time": "2022-10-16T10:07:22.596Z"
   },
   {
    "duration": 58,
    "start_time": "2022-10-16T10:07:22.608Z"
   },
   {
    "duration": 103,
    "start_time": "2022-10-16T10:07:22.668Z"
   },
   {
    "duration": 18,
    "start_time": "2022-10-16T10:07:22.773Z"
   },
   {
    "duration": 22,
    "start_time": "2022-10-16T10:07:22.793Z"
   },
   {
    "duration": 6,
    "start_time": "2022-10-16T10:07:22.818Z"
   },
   {
    "duration": 8,
    "start_time": "2022-10-16T10:07:22.825Z"
   },
   {
    "duration": 12,
    "start_time": "2022-10-16T10:07:22.835Z"
   },
   {
    "duration": 285,
    "start_time": "2022-10-16T10:07:22.848Z"
   },
   {
    "duration": 271,
    "start_time": "2022-10-16T10:07:23.135Z"
   },
   {
    "duration": 200,
    "start_time": "2022-10-16T10:07:23.407Z"
   },
   {
    "duration": 368,
    "start_time": "2022-10-16T10:07:23.609Z"
   },
   {
    "duration": 331,
    "start_time": "2022-10-16T10:07:23.979Z"
   },
   {
    "duration": 0,
    "start_time": "2022-10-16T10:07:24.312Z"
   },
   {
    "duration": 0,
    "start_time": "2022-10-16T10:07:24.313Z"
   },
   {
    "duration": 0,
    "start_time": "2022-10-16T10:07:24.314Z"
   },
   {
    "duration": 0,
    "start_time": "2022-10-16T10:07:24.315Z"
   },
   {
    "duration": 0,
    "start_time": "2022-10-16T10:07:24.316Z"
   },
   {
    "duration": 0,
    "start_time": "2022-10-16T10:07:24.317Z"
   },
   {
    "duration": 0,
    "start_time": "2022-10-16T10:07:24.318Z"
   },
   {
    "duration": 0,
    "start_time": "2022-10-16T10:07:24.334Z"
   },
   {
    "duration": 0,
    "start_time": "2022-10-16T10:07:24.335Z"
   },
   {
    "duration": 0,
    "start_time": "2022-10-16T10:07:24.336Z"
   },
   {
    "duration": 0,
    "start_time": "2022-10-16T10:07:24.337Z"
   },
   {
    "duration": 0,
    "start_time": "2022-10-16T10:07:24.338Z"
   },
   {
    "duration": 0,
    "start_time": "2022-10-16T10:07:24.339Z"
   },
   {
    "duration": 0,
    "start_time": "2022-10-16T10:07:24.340Z"
   },
   {
    "duration": 0,
    "start_time": "2022-10-16T10:07:24.341Z"
   },
   {
    "duration": 0,
    "start_time": "2022-10-16T10:07:24.342Z"
   },
   {
    "duration": 0,
    "start_time": "2022-10-16T10:07:24.343Z"
   },
   {
    "duration": 0,
    "start_time": "2022-10-16T10:07:24.344Z"
   },
   {
    "duration": 8,
    "start_time": "2022-10-16T10:08:00.392Z"
   },
   {
    "duration": 3,
    "start_time": "2022-10-16T10:08:17.489Z"
   },
   {
    "duration": 21,
    "start_time": "2022-10-16T10:08:17.670Z"
   },
   {
    "duration": 7,
    "start_time": "2022-10-16T10:08:19.175Z"
   },
   {
    "duration": 11,
    "start_time": "2022-10-16T10:08:19.975Z"
   },
   {
    "duration": 12,
    "start_time": "2022-10-16T10:08:20.478Z"
   },
   {
    "duration": 15,
    "start_time": "2022-10-16T10:08:20.824Z"
   },
   {
    "duration": 40,
    "start_time": "2022-10-16T10:08:22.710Z"
   },
   {
    "duration": 15,
    "start_time": "2022-10-16T10:08:23.054Z"
   },
   {
    "duration": 20,
    "start_time": "2022-10-16T10:08:23.430Z"
   },
   {
    "duration": 7,
    "start_time": "2022-10-16T10:08:23.791Z"
   },
   {
    "duration": 8,
    "start_time": "2022-10-16T10:08:24.102Z"
   },
   {
    "duration": 11,
    "start_time": "2022-10-16T10:08:24.441Z"
   },
   {
    "duration": 273,
    "start_time": "2022-10-16T10:08:25.662Z"
   },
   {
    "duration": 176,
    "start_time": "2022-10-16T10:08:26.591Z"
   },
   {
    "duration": 211,
    "start_time": "2022-10-16T10:08:28.656Z"
   },
   {
    "duration": 320,
    "start_time": "2022-10-16T10:08:30.525Z"
   },
   {
    "duration": 290,
    "start_time": "2022-10-16T10:08:32.455Z"
   },
   {
    "duration": 360,
    "start_time": "2022-10-16T10:08:35.942Z"
   },
   {
    "duration": 130,
    "start_time": "2022-10-16T10:08:49.774Z"
   },
   {
    "duration": 128,
    "start_time": "2022-10-16T10:08:50.662Z"
   },
   {
    "duration": 122,
    "start_time": "2022-10-16T10:08:53.533Z"
   },
   {
    "duration": 4,
    "start_time": "2022-10-16T10:08:56.070Z"
   },
   {
    "duration": 132,
    "start_time": "2022-10-16T10:08:57.606Z"
   },
   {
    "duration": 130,
    "start_time": "2022-10-16T10:08:58.646Z"
   },
   {
    "duration": 185,
    "start_time": "2022-10-16T10:09:02.040Z"
   },
   {
    "duration": 4,
    "start_time": "2022-10-16T10:09:04.451Z"
   },
   {
    "duration": 208,
    "start_time": "2022-10-16T10:09:07.127Z"
   },
   {
    "duration": 120,
    "start_time": "2022-10-16T10:09:08.797Z"
   },
   {
    "duration": 6,
    "start_time": "2022-10-16T10:09:13.294Z"
   },
   {
    "duration": 125,
    "start_time": "2022-10-16T10:09:13.463Z"
   },
   {
    "duration": 23,
    "start_time": "2022-10-16T10:09:15.293Z"
   },
   {
    "duration": 12,
    "start_time": "2022-10-16T10:09:16.485Z"
   },
   {
    "duration": 9,
    "start_time": "2022-10-16T10:09:17.581Z"
   },
   {
    "duration": 28,
    "start_time": "2022-10-16T10:09:20.181Z"
   },
   {
    "duration": 14,
    "start_time": "2022-10-16T10:09:21.157Z"
   },
   {
    "duration": 211,
    "start_time": "2022-10-16T10:12:35.262Z"
   },
   {
    "duration": 206,
    "start_time": "2022-10-16T10:12:55.900Z"
   },
   {
    "duration": 272,
    "start_time": "2022-10-16T10:14:22.379Z"
   },
   {
    "duration": 271,
    "start_time": "2022-10-16T10:14:39.371Z"
   },
   {
    "duration": 237,
    "start_time": "2022-10-16T10:15:02.090Z"
   },
   {
    "duration": 202,
    "start_time": "2022-10-16T10:15:19.844Z"
   },
   {
    "duration": 349,
    "start_time": "2022-10-16T10:16:08.499Z"
   },
   {
    "duration": 11,
    "start_time": "2022-10-16T10:31:46.769Z"
   },
   {
    "duration": 9,
    "start_time": "2022-10-16T10:31:59.261Z"
   },
   {
    "duration": 9,
    "start_time": "2022-10-16T10:41:32.612Z"
   },
   {
    "duration": 10,
    "start_time": "2022-10-16T10:41:35.213Z"
   },
   {
    "duration": 11,
    "start_time": "2022-10-16T10:43:30.910Z"
   },
   {
    "duration": 9,
    "start_time": "2022-10-16T10:44:03.322Z"
   },
   {
    "duration": 41,
    "start_time": "2022-10-16T11:11:36.476Z"
   },
   {
    "duration": 16,
    "start_time": "2022-10-16T11:11:37.946Z"
   },
   {
    "duration": 14,
    "start_time": "2022-10-16T11:45:47.032Z"
   },
   {
    "duration": 9,
    "start_time": "2022-10-16T11:46:13.600Z"
   },
   {
    "duration": 9,
    "start_time": "2022-10-16T11:53:08.394Z"
   },
   {
    "duration": 9,
    "start_time": "2022-10-16T11:53:22.009Z"
   },
   {
    "duration": 9,
    "start_time": "2022-10-16T11:54:14.936Z"
   },
   {
    "duration": 35,
    "start_time": "2022-10-16T11:57:56.783Z"
   },
   {
    "duration": 9,
    "start_time": "2022-10-16T11:58:19.589Z"
   },
   {
    "duration": 9,
    "start_time": "2022-10-16T11:58:49.716Z"
   },
   {
    "duration": 10,
    "start_time": "2022-10-16T11:59:12.044Z"
   },
   {
    "duration": 12,
    "start_time": "2022-10-16T12:02:42.186Z"
   },
   {
    "duration": 10,
    "start_time": "2022-10-16T12:02:48.666Z"
   },
   {
    "duration": 14,
    "start_time": "2022-10-16T12:14:15.336Z"
   },
   {
    "duration": 15,
    "start_time": "2022-10-16T12:35:55.918Z"
   },
   {
    "duration": 2,
    "start_time": "2022-10-16T12:36:05.031Z"
   },
   {
    "duration": 590,
    "start_time": "2022-10-16T12:38:46.092Z"
   },
   {
    "duration": 11,
    "start_time": "2022-10-16T12:39:14.053Z"
   },
   {
    "duration": 10,
    "start_time": "2022-10-16T12:46:23.317Z"
   },
   {
    "duration": 9,
    "start_time": "2022-10-16T12:48:20.692Z"
   },
   {
    "duration": 12,
    "start_time": "2022-10-16T12:54:54.127Z"
   },
   {
    "duration": 9,
    "start_time": "2022-10-16T13:59:24.431Z"
   },
   {
    "duration": 5,
    "start_time": "2022-10-16T14:00:33.544Z"
   },
   {
    "duration": 7,
    "start_time": "2022-10-16T14:02:02.037Z"
   },
   {
    "duration": 1073,
    "start_time": "2022-10-16T17:52:34.919Z"
   },
   {
    "duration": 84,
    "start_time": "2022-10-16T17:52:35.994Z"
   },
   {
    "duration": 8,
    "start_time": "2022-10-16T17:52:36.080Z"
   },
   {
    "duration": 15,
    "start_time": "2022-10-16T17:52:36.090Z"
   },
   {
    "duration": 10,
    "start_time": "2022-10-16T17:52:36.106Z"
   },
   {
    "duration": 57,
    "start_time": "2022-10-16T17:52:36.117Z"
   },
   {
    "duration": 149,
    "start_time": "2022-10-16T17:52:36.175Z"
   },
   {
    "duration": 22,
    "start_time": "2022-10-16T17:52:36.326Z"
   },
   {
    "duration": 25,
    "start_time": "2022-10-16T17:52:36.350Z"
   },
   {
    "duration": 7,
    "start_time": "2022-10-16T17:52:36.378Z"
   },
   {
    "duration": 11,
    "start_time": "2022-10-16T17:52:36.386Z"
   },
   {
    "duration": 12,
    "start_time": "2022-10-16T17:52:36.398Z"
   },
   {
    "duration": 287,
    "start_time": "2022-10-16T17:52:36.412Z"
   },
   {
    "duration": 265,
    "start_time": "2022-10-16T17:52:36.701Z"
   },
   {
    "duration": 199,
    "start_time": "2022-10-16T17:52:36.969Z"
   },
   {
    "duration": 326,
    "start_time": "2022-10-16T17:52:37.170Z"
   },
   {
    "duration": 235,
    "start_time": "2022-10-16T17:52:37.498Z"
   },
   {
    "duration": 314,
    "start_time": "2022-10-16T17:52:37.735Z"
   },
   {
    "duration": 148,
    "start_time": "2022-10-16T17:52:38.051Z"
   },
   {
    "duration": 172,
    "start_time": "2022-10-16T17:52:38.201Z"
   },
   {
    "duration": 147,
    "start_time": "2022-10-16T17:52:38.375Z"
   },
   {
    "duration": 5,
    "start_time": "2022-10-16T17:52:38.523Z"
   },
   {
    "duration": 233,
    "start_time": "2022-10-16T17:52:38.530Z"
   },
   {
    "duration": 139,
    "start_time": "2022-10-16T17:52:38.765Z"
   },
   {
    "duration": 172,
    "start_time": "2022-10-16T17:52:38.906Z"
   },
   {
    "duration": 5,
    "start_time": "2022-10-16T17:52:39.079Z"
   },
   {
    "duration": 227,
    "start_time": "2022-10-16T17:52:39.096Z"
   },
   {
    "duration": 190,
    "start_time": "2022-10-16T17:52:39.326Z"
   },
   {
    "duration": 7,
    "start_time": "2022-10-16T17:52:39.518Z"
   },
   {
    "duration": 163,
    "start_time": "2022-10-16T17:52:39.527Z"
   },
   {
    "duration": 25,
    "start_time": "2022-10-16T17:52:39.696Z"
   },
   {
    "duration": 10,
    "start_time": "2022-10-16T17:52:39.723Z"
   },
   {
    "duration": 12,
    "start_time": "2022-10-16T17:52:39.735Z"
   },
   {
    "duration": 7,
    "start_time": "2022-10-16T17:52:39.749Z"
   },
   {
    "duration": 66,
    "start_time": "2022-10-16T17:52:39.757Z"
   },
   {
    "duration": 17,
    "start_time": "2022-10-16T17:52:39.825Z"
   },
   {
    "duration": 1186,
    "start_time": "2022-10-16T17:59:48.685Z"
   },
   {
    "duration": 37,
    "start_time": "2022-10-16T17:59:49.873Z"
   },
   {
    "duration": 8,
    "start_time": "2022-10-16T17:59:49.911Z"
   },
   {
    "duration": 13,
    "start_time": "2022-10-16T17:59:49.921Z"
   },
   {
    "duration": 14,
    "start_time": "2022-10-16T17:59:49.935Z"
   },
   {
    "duration": 69,
    "start_time": "2022-10-16T17:59:49.951Z"
   },
   {
    "duration": 65,
    "start_time": "2022-10-16T17:59:50.022Z"
   },
   {
    "duration": 17,
    "start_time": "2022-10-16T17:59:50.088Z"
   },
   {
    "duration": 20,
    "start_time": "2022-10-16T17:59:50.106Z"
   },
   {
    "duration": 9,
    "start_time": "2022-10-16T17:59:50.129Z"
   },
   {
    "duration": 6,
    "start_time": "2022-10-16T17:59:50.140Z"
   },
   {
    "duration": 12,
    "start_time": "2022-10-16T17:59:50.147Z"
   },
   {
    "duration": 326,
    "start_time": "2022-10-16T17:59:50.160Z"
   },
   {
    "duration": 278,
    "start_time": "2022-10-16T17:59:50.488Z"
   },
   {
    "duration": 205,
    "start_time": "2022-10-16T17:59:50.768Z"
   },
   {
    "duration": 322,
    "start_time": "2022-10-16T17:59:50.974Z"
   },
   {
    "duration": 240,
    "start_time": "2022-10-16T17:59:51.298Z"
   },
   {
    "duration": 337,
    "start_time": "2022-10-16T17:59:51.540Z"
   },
   {
    "duration": 131,
    "start_time": "2022-10-16T17:59:51.879Z"
   },
   {
    "duration": 164,
    "start_time": "2022-10-16T17:59:52.011Z"
   },
   {
    "duration": 161,
    "start_time": "2022-10-16T17:59:52.176Z"
   },
   {
    "duration": 5,
    "start_time": "2022-10-16T17:59:52.339Z"
   },
   {
    "duration": 271,
    "start_time": "2022-10-16T17:59:52.345Z"
   },
   {
    "duration": 172,
    "start_time": "2022-10-16T17:59:52.618Z"
   },
   {
    "duration": 172,
    "start_time": "2022-10-16T17:59:52.792Z"
   },
   {
    "duration": 4,
    "start_time": "2022-10-16T17:59:52.966Z"
   },
   {
    "duration": 244,
    "start_time": "2022-10-16T17:59:52.972Z"
   },
   {
    "duration": 150,
    "start_time": "2022-10-16T17:59:53.219Z"
   },
   {
    "duration": 6,
    "start_time": "2022-10-16T17:59:53.371Z"
   },
   {
    "duration": 152,
    "start_time": "2022-10-16T17:59:53.379Z"
   },
   {
    "duration": 24,
    "start_time": "2022-10-16T17:59:53.533Z"
   },
   {
    "duration": 10,
    "start_time": "2022-10-16T17:59:53.559Z"
   },
   {
    "duration": 32,
    "start_time": "2022-10-16T17:59:53.571Z"
   },
   {
    "duration": 6,
    "start_time": "2022-10-16T17:59:53.605Z"
   },
   {
    "duration": 30,
    "start_time": "2022-10-16T17:59:53.613Z"
   },
   {
    "duration": 16,
    "start_time": "2022-10-16T17:59:53.645Z"
   },
   {
    "duration": 51,
    "start_time": "2022-10-17T12:27:27.089Z"
   },
   {
    "duration": 1176,
    "start_time": "2022-10-17T12:27:53.478Z"
   },
   {
    "duration": 46,
    "start_time": "2022-10-17T12:27:54.656Z"
   },
   {
    "duration": 9,
    "start_time": "2022-10-17T12:27:54.778Z"
   },
   {
    "duration": 12,
    "start_time": "2022-10-17T12:27:55.566Z"
   },
   {
    "duration": 10,
    "start_time": "2022-10-17T12:27:56.086Z"
   },
   {
    "duration": 50,
    "start_time": "2022-10-17T12:27:56.431Z"
   },
   {
    "duration": 100,
    "start_time": "2022-10-17T12:27:58.094Z"
   },
   {
    "duration": 17,
    "start_time": "2022-10-17T12:27:58.327Z"
   },
   {
    "duration": 20,
    "start_time": "2022-10-17T12:27:58.934Z"
   },
   {
    "duration": 7,
    "start_time": "2022-10-17T12:27:59.278Z"
   },
   {
    "duration": 6,
    "start_time": "2022-10-17T12:27:59.637Z"
   },
   {
    "duration": 11,
    "start_time": "2022-10-17T12:27:59.941Z"
   },
   {
    "duration": 270,
    "start_time": "2022-10-17T12:28:01.790Z"
   },
   {
    "duration": 243,
    "start_time": "2022-10-17T12:28:02.141Z"
   },
   {
    "duration": 180,
    "start_time": "2022-10-17T12:28:03.389Z"
   },
   {
    "duration": 366,
    "start_time": "2022-10-17T12:28:04.182Z"
   },
   {
    "duration": 207,
    "start_time": "2022-10-17T12:28:04.974Z"
   },
   {
    "duration": 287,
    "start_time": "2022-10-17T12:28:06.742Z"
   },
   {
    "duration": 132,
    "start_time": "2022-10-17T12:28:08.078Z"
   },
   {
    "duration": 133,
    "start_time": "2022-10-17T12:28:08.260Z"
   },
   {
    "duration": 136,
    "start_time": "2022-10-17T12:28:09.054Z"
   },
   {
    "duration": 4,
    "start_time": "2022-10-17T12:28:10.133Z"
   },
   {
    "duration": 200,
    "start_time": "2022-10-17T12:28:10.791Z"
   },
   {
    "duration": 142,
    "start_time": "2022-10-17T12:28:11.230Z"
   },
   {
    "duration": 171,
    "start_time": "2022-10-17T12:28:11.765Z"
   },
   {
    "duration": 4,
    "start_time": "2022-10-17T12:28:13.230Z"
   },
   {
    "duration": 208,
    "start_time": "2022-10-17T12:28:13.964Z"
   },
   {
    "duration": 136,
    "start_time": "2022-10-17T12:28:14.454Z"
   },
   {
    "duration": 6,
    "start_time": "2022-10-17T12:28:15.001Z"
   },
   {
    "duration": 159,
    "start_time": "2022-10-17T12:28:15.145Z"
   },
   {
    "duration": 199,
    "start_time": "2022-10-17T12:31:28.269Z"
   },
   {
    "duration": 4,
    "start_time": "2022-10-17T12:31:53.965Z"
   },
   {
    "duration": 136,
    "start_time": "2022-10-17T12:31:55.044Z"
   },
   {
    "duration": 146,
    "start_time": "2022-10-17T12:31:57.860Z"
   },
   {
    "duration": 162,
    "start_time": "2022-10-17T12:32:13.237Z"
   },
   {
    "duration": 142,
    "start_time": "2022-10-17T12:35:15.891Z"
   },
   {
    "duration": 141,
    "start_time": "2022-10-17T12:35:20.017Z"
   },
   {
    "duration": 134,
    "start_time": "2022-10-17T12:39:34.368Z"
   },
   {
    "duration": 9,
    "start_time": "2022-10-17T12:41:28.966Z"
   },
   {
    "duration": 125,
    "start_time": "2022-10-17T12:44:02.691Z"
   },
   {
    "duration": 210,
    "start_time": "2022-10-17T12:45:12.537Z"
   },
   {
    "duration": 166,
    "start_time": "2022-10-17T12:45:26.426Z"
   },
   {
    "duration": 130,
    "start_time": "2022-10-17T12:47:38.748Z"
   },
   {
    "duration": 130,
    "start_time": "2022-10-17T12:48:15.580Z"
   },
   {
    "duration": 127,
    "start_time": "2022-10-17T12:48:47.575Z"
   },
   {
    "duration": 122,
    "start_time": "2022-10-17T12:48:58.335Z"
   },
   {
    "duration": 162,
    "start_time": "2022-10-17T12:49:22.607Z"
   },
   {
    "duration": 155,
    "start_time": "2022-10-17T12:49:40.590Z"
   },
   {
    "duration": 1067,
    "start_time": "2022-10-17T12:50:48.885Z"
   },
   {
    "duration": 25,
    "start_time": "2022-10-17T12:50:49.954Z"
   },
   {
    "duration": 7,
    "start_time": "2022-10-17T12:50:49.981Z"
   },
   {
    "duration": 20,
    "start_time": "2022-10-17T12:50:49.990Z"
   },
   {
    "duration": 11,
    "start_time": "2022-10-17T12:50:50.011Z"
   },
   {
    "duration": 60,
    "start_time": "2022-10-17T12:50:50.024Z"
   },
   {
    "duration": 35,
    "start_time": "2022-10-17T12:50:50.086Z"
   },
   {
    "duration": 16,
    "start_time": "2022-10-17T12:50:50.122Z"
   },
   {
    "duration": 20,
    "start_time": "2022-10-17T12:50:50.140Z"
   },
   {
    "duration": 5,
    "start_time": "2022-10-17T12:50:50.162Z"
   },
   {
    "duration": 10,
    "start_time": "2022-10-17T12:50:50.169Z"
   },
   {
    "duration": 10,
    "start_time": "2022-10-17T12:50:50.181Z"
   },
   {
    "duration": 277,
    "start_time": "2022-10-17T12:50:50.209Z"
   },
   {
    "duration": 271,
    "start_time": "2022-10-17T12:50:50.487Z"
   },
   {
    "duration": 190,
    "start_time": "2022-10-17T12:50:50.759Z"
   },
   {
    "duration": 276,
    "start_time": "2022-10-17T12:50:50.950Z"
   },
   {
    "duration": 249,
    "start_time": "2022-10-17T12:50:51.227Z"
   },
   {
    "duration": 361,
    "start_time": "2022-10-17T12:50:51.477Z"
   },
   {
    "duration": 190,
    "start_time": "2022-10-17T12:50:51.840Z"
   },
   {
    "duration": 161,
    "start_time": "2022-10-17T12:50:52.032Z"
   },
   {
    "duration": 177,
    "start_time": "2022-10-17T12:50:52.195Z"
   },
   {
    "duration": 5,
    "start_time": "2022-10-17T12:50:52.374Z"
   },
   {
    "duration": 219,
    "start_time": "2022-10-17T12:50:52.381Z"
   },
   {
    "duration": 155,
    "start_time": "2022-10-17T12:50:52.602Z"
   },
   {
    "duration": 193,
    "start_time": "2022-10-17T12:50:52.759Z"
   },
   {
    "duration": 5,
    "start_time": "2022-10-17T12:50:52.954Z"
   },
   {
    "duration": 222,
    "start_time": "2022-10-17T12:50:52.961Z"
   },
   {
    "duration": 177,
    "start_time": "2022-10-17T12:50:53.186Z"
   },
   {
    "duration": 6,
    "start_time": "2022-10-17T12:50:53.365Z"
   },
   {
    "duration": 148,
    "start_time": "2022-10-17T12:50:53.373Z"
   },
   {
    "duration": 20,
    "start_time": "2022-10-17T12:50:53.523Z"
   },
   {
    "duration": 9,
    "start_time": "2022-10-17T12:50:53.545Z"
   },
   {
    "duration": 10,
    "start_time": "2022-10-17T12:50:53.556Z"
   },
   {
    "duration": 5,
    "start_time": "2022-10-17T12:50:53.567Z"
   },
   {
    "duration": 55,
    "start_time": "2022-10-17T12:50:53.573Z"
   },
   {
    "duration": 12,
    "start_time": "2022-10-17T12:50:53.629Z"
   }
  ],
  "kernelspec": {
   "display_name": "Python 3 (ipykernel)",
   "language": "python",
   "name": "python3"
  },
  "language_info": {
   "codemirror_mode": {
    "name": "ipython",
    "version": 3
   },
   "file_extension": ".py",
   "mimetype": "text/x-python",
   "name": "python",
   "nbconvert_exporter": "python",
   "pygments_lexer": "ipython3",
   "version": "3.9.5"
  },
  "toc": {
   "base_numbering": 1,
   "nav_menu": {},
   "number_sections": true,
   "sideBar": true,
   "skip_h1_title": true,
   "title_cell": "Table of Contents",
   "title_sidebar": "Contents",
   "toc_cell": false,
   "toc_position": {
    "height": "calc(100% - 180px)",
    "left": "10px",
    "top": "150px",
    "width": "318px"
   },
   "toc_section_display": true,
   "toc_window_display": true
  }
 },
 "nbformat": 4,
 "nbformat_minor": 2
}
